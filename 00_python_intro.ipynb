{
  "nbformat": 4,
  "nbformat_minor": 0,
  "metadata": {
    "kernelspec": {
      "display_name": "Python 3",
      "language": "python",
      "name": "python3"
    },
    "language_info": {
      "codemirror_mode": {
        "name": "ipython",
        "version": 3
      },
      "file_extension": ".py",
      "mimetype": "text/x-python",
      "name": "python",
      "nbconvert_exporter": "python",
      "pygments_lexer": "ipython3",
      "version": "3.6.7"
    },
    "toc": {
      "base_numbering": 1,
      "nav_menu": {},
      "number_sections": true,
      "sideBar": true,
      "skip_h1_title": false,
      "title_cell": "Table of Contents",
      "title_sidebar": "Contents",
      "toc_cell": false,
      "toc_position": {},
      "toc_section_display": true,
      "toc_window_display": false
    },
    "colab": {
      "name": "00_python_intro.ipynb",
      "provenance": [],
      "include_colab_link": true
    }
  },
  "cells": [
    {
      "cell_type": "markdown",
      "metadata": {
        "id": "view-in-github",
        "colab_type": "text"
      },
      "source": [
        "<a href=\"https://colab.research.google.com/github/tjdgns1284/git_practice/blob/master/00_python_intro.ipynb\" target=\"_parent\"><img src=\"https://colab.research.google.com/assets/colab-badge.svg\" alt=\"Open In Colab\"/></a>"
      ]
    },
    {
      "cell_type": "markdown",
      "metadata": {
        "id": "kMXQCcVIrbMh",
        "colab_type": "text"
      },
      "source": [
        "# Python 기초\n",
        "\n",
        "## 개요\n",
        "\n",
        "본 강의 자료는 [Python 공식 Tutorial](https://docs.python.org/3.7/tutorial/index.html)에 근거하여 만들어졌으며, Python 3.7 버전에 해당하는 내용을 담고 있습니다.\n",
        "\n",
        "또한, 파이썬에서 제공하는 스타일 가이드인 [`PEP-8`](https://www.python.org/dev/peps/pep-0008/) 내용을 반영하였습니다. \n",
        "\n",
        "파이썬을 활용하는 다양한 IT기업들은 대내외적으로 본인들의 스타일 가이드를 제공하고 있습니다. \n",
        "\n",
        "* [구글 스타일 가이드](https://github.com/google/styleguide/blob/gh-pages/pyguide.md)\n",
        "* [Tensorflow 스타일 가이드](https://www.tensorflow.org/community/style_guide)\n",
        "\n"
      ]
    },
    {
      "cell_type": "markdown",
      "metadata": {
        "id": "NjR41RU0rbMi",
        "colab_type": "text"
      },
      "source": [
        "## 기초 문법(Syntax)\n",
        "### 주석(Comment)\n",
        "\n",
        "* 한 줄 주석은 `#`으로 표현한다. \n",
        "\n",
        "* 여러 줄의 주석은 \n",
        "    1. 한 줄 씩 `#`을 사용해서 표현하거나,\n",
        "    2. `\"\"\"` 또는 `'''`(여러줄 문자열, multiline string)으로 표현할 수 있습니다.\n",
        "    (multiline은 주로 함수/클래스를 설명(docstring)하기 위해 활용됩니다.)"
      ]
    },
    {
      "cell_type": "code",
      "metadata": {
        "id": "PkjeBK4ArbMi",
        "colab_type": "code",
        "colab": {}
      },
      "source": [
        "# 주석을 연습해봅시다. "
      ],
      "execution_count": null,
      "outputs": []
    },
    {
      "cell_type": "code",
      "metadata": {
        "id": "4Lh9CriNrbMm",
        "colab_type": "code",
        "colab": {}
      },
      "source": [
        "#이건 한줄짜리 주석입니다"
      ],
      "execution_count": null,
      "outputs": []
    },
    {
      "cell_type": "code",
      "metadata": {
        "id": "yitDc39ArbMo",
        "colab_type": "code",
        "colab": {}
      },
      "source": [
        "# 여러줄 주석을 multiline string을 활용하여 연습해봅시다."
      ],
      "execution_count": null,
      "outputs": []
    },
    {
      "cell_type": "code",
      "metadata": {
        "id": "lC8e746DrbMq",
        "colab_type": "code",
        "colab": {}
      },
      "source": [
        "'''\n",
        "여러줄에 걸쳐 \n",
        "주석/스트링 \n",
        "가능\n",
        "'''"
      ],
      "execution_count": null,
      "outputs": []
    },
    {
      "cell_type": "markdown",
      "metadata": {
        "id": "0Xi55sNhrbMs",
        "colab_type": "text"
      },
      "source": [
        "### 코드 라인\n",
        "* 파이썬 코드는 '1줄에 1문장(statment)'이 원칙이다.\n",
        "\n",
        "* 문장(statement)은 파이썬이 실행 가능(executable)한 최소한의 코드 단위이다. \n",
        "\n",
        "* 기본적으로 파이썬에서는 `;`을 작성하지 않는다.\n",
        "\n",
        "* 한 줄로 표기할때는 `;`을 작성하여 표기할 수 있다. "
      ]
    },
    {
      "cell_type": "markdown",
      "metadata": {
        "id": "BonVYX5Btrci",
        "colab_type": "text"
      },
      "source": [
        "> ## 이건 텍스트 셀입니다. "
      ]
    },
    {
      "cell_type": "code",
      "metadata": {
        "id": "9bEXsGumth29",
        "colab_type": "code",
        "colab": {}
      },
      "source": [
        "print('이건 코드 셀 입니다.')"
      ],
      "execution_count": null,
      "outputs": []
    },
    {
      "cell_type": "code",
      "metadata": {
        "id": "AxU8JutSrbMt",
        "colab_type": "code",
        "colab": {}
      },
      "source": [
        "# print문을 두번 써봅시다."
      ],
      "execution_count": null,
      "outputs": []
    },
    {
      "cell_type": "code",
      "metadata": {
        "id": "M2CFjmhRrbMv",
        "colab_type": "code",
        "colab": {
          "base_uri": "https://localhost:8080/",
          "height": 52
        },
        "outputId": "57906c96-c3e4-4045-e32d-26f026bac0a7"
      },
      "source": [
        "print('hello')\n",
        "print('world')"
      ],
      "execution_count": 3,
      "outputs": [
        {
          "output_type": "stream",
          "text": [
            "hello\n",
            "world\n"
          ],
          "name": "stdout"
        }
      ]
    },
    {
      "cell_type": "code",
      "metadata": {
        "id": "z-NOWrDKrbMx",
        "colab_type": "code",
        "colab": {}
      },
      "source": [
        "# print문을 한줄로 이어서 써봅시다. 오류 메시지를 확인해주세요."
      ],
      "execution_count": null,
      "outputs": []
    },
    {
      "cell_type": "code",
      "metadata": {
        "id": "TDx8ZOJ2rbM0",
        "colab_type": "code",
        "colab": {
          "base_uri": "https://localhost:8080/",
          "height": 134
        },
        "outputId": "5af32b09-6a6b-4eaf-f560-2b6bd79eb2a6"
      },
      "source": [
        "print('hello')print('world')"
      ],
      "execution_count": 4,
      "outputs": [
        {
          "output_type": "error",
          "ename": "SyntaxError",
          "evalue": "ignored",
          "traceback": [
            "\u001b[0;36m  File \u001b[0;32m\"<ipython-input-4-71f683e5cf02>\"\u001b[0;36m, line \u001b[0;32m1\u001b[0m\n\u001b[0;31m    print('hello')print('world')\u001b[0m\n\u001b[0m                      ^\u001b[0m\n\u001b[0;31mSyntaxError\u001b[0m\u001b[0;31m:\u001b[0m invalid syntax\n"
          ]
        }
      ]
    },
    {
      "cell_type": "code",
      "metadata": {
        "id": "VIvyYm2jrbM2",
        "colab_type": "code",
        "colab": {}
      },
      "source": [
        "# ;을 통해 오류를 해결해봅시다."
      ],
      "execution_count": null,
      "outputs": []
    },
    {
      "cell_type": "code",
      "metadata": {
        "id": "-nRGSGeGrbM4",
        "colab_type": "code",
        "colab": {
          "base_uri": "https://localhost:8080/",
          "height": 52
        },
        "outputId": "3b550402-9a7c-45a6-bcfe-9eb7ed3b01c8"
      },
      "source": [
        "print('hello');print('world')"
      ],
      "execution_count": 5,
      "outputs": [
        {
          "output_type": "stream",
          "text": [
            "hello\n",
            "world\n"
          ],
          "name": "stdout"
        }
      ]
    },
    {
      "cell_type": "code",
      "metadata": {
        "id": "JRlPPaN0rbM6",
        "colab_type": "code",
        "colab": {}
      },
      "source": [
        "# 하지만 위와 같이 잘 쓰지는 않습니다."
      ],
      "execution_count": null,
      "outputs": []
    },
    {
      "cell_type": "markdown",
      "metadata": {
        "id": "xn2jWJxcrbM8",
        "colab_type": "text"
      },
      "source": [
        "* 줄을 여러줄 작성할 때는 역슬래시`\\`를 사용하여 아래와 같이 할 수 있다. "
      ]
    },
    {
      "cell_type": "code",
      "metadata": {
        "id": "x4WxXGdJrbM9",
        "colab_type": "code",
        "colab": {}
      },
      "source": [
        "# print문을 통해 안되는 코드 예시 작성해봅시다."
      ],
      "execution_count": null,
      "outputs": []
    },
    {
      "cell_type": "code",
      "metadata": {
        "id": "HtR6uPdnrbM_",
        "colab_type": "code",
        "colab": {
          "base_uri": "https://localhost:8080/",
          "height": 105
        },
        "outputId": "53e631ed-624f-4897-a79d-09cbde0e9adb"
      },
      "source": [
        "print('''\n",
        "안녕 \n",
        "나는\n",
        " python이야\n",
        " ''')"
      ],
      "execution_count": 10,
      "outputs": [
        {
          "output_type": "stream",
          "text": [
            "\n",
            "안녕 \n",
            "나는\n",
            " python이야\n",
            " \n"
          ],
          "name": "stdout"
        }
      ]
    },
    {
      "cell_type": "code",
      "metadata": {
        "id": "A693FuV0rbNA",
        "colab_type": "code",
        "colab": {}
      },
      "source": [
        "# print문을 통해 되는 코드 예시 작성해봅시다."
      ],
      "execution_count": null,
      "outputs": []
    },
    {
      "cell_type": "code",
      "metadata": {
        "id": "QRLX-KamrbNC",
        "colab_type": "code",
        "colab": {}
      },
      "source": [
        "# 아래와 같은 동작이 가능 하지만 잘 쓰이지는 않습니다."
      ],
      "execution_count": null,
      "outputs": []
    },
    {
      "cell_type": "code",
      "metadata": {
        "id": "Wb-UcneGrbNE",
        "colab_type": "code",
        "colab": {
          "base_uri": "https://localhost:8080/",
          "height": 34
        },
        "outputId": "5693db7b-f449-4f03-dccb-449e2e153d82"
      },
      "source": [
        "print('\\\n",
        "안녕\\\n",
        "나는\\\n",
        "python이야')"
      ],
      "execution_count": 9,
      "outputs": [
        {
          "output_type": "stream",
          "text": [
            "안녕나는python이야\n"
          ],
          "name": "stdout"
        }
      ]
    },
    {
      "cell_type": "markdown",
      "metadata": {
        "id": "ezDUsbPArbNG",
        "colab_type": "text"
      },
      "source": [
        "* `[]` `{}` `()`는 `\\` 없이도 가능하다."
      ]
    },
    {
      "cell_type": "code",
      "metadata": {
        "id": "PE00-COprbNG",
        "colab_type": "code",
        "colab": {}
      },
      "source": [
        "# list를 여러 줄에 걸쳐서 만들어봅시다."
      ],
      "execution_count": null,
      "outputs": []
    },
    {
      "cell_type": "code",
      "metadata": {
        "id": "ot6ztT9HrbNI",
        "colab_type": "code",
        "colab": {
          "base_uri": "https://localhost:8080/",
          "height": 34
        },
        "outputId": "cf627a8b-f6b7-4112-a378-f39eb90aa7b8"
      },
      "source": [
        " menu =  {\n",
        "     '김밥', '돈가스',  '햄버거'\n",
        "} \n",
        "  "
      ],
      "execution_count": 11,
      "outputs": [
        {
          "output_type": "stream",
          "text": [
            "{'김밥', '햄버거', '돈가스'}\n"
          ],
          "name": "stdout"
        }
      ]
    },
    {
      "cell_type": "markdown",
      "metadata": {
        "id": "q7Li53NsrbNL",
        "colab_type": "text"
      },
      "source": [
        "# 변수(Variable)"
      ]
    },
    {
      "cell_type": "markdown",
      "metadata": {
        "id": "48ycDlSxrbNL",
        "colab_type": "text"
      },
      "source": [
        "## 변수 \n",
        "\n",
        "<center><img src=\"https://user-images.githubusercontent.com/18046097/61179855-0c8d0200-a646-11e9-9e9e-2c6df0504296.png\", alt=\"variable\"/></center>"
      ]
    },
    {
      "cell_type": "markdown",
      "metadata": {
        "id": "CXABvddArbNM",
        "colab_type": "text"
      },
      "source": [
        "\n",
        "<center><img src=\"https://user-images.githubusercontent.com/18046097/61179857-13b41000-a646-11e9-9a88-8487df4eaf52.png\", alt=\"box\"/></center>"
      ]
    },
    {
      "cell_type": "markdown",
      "metadata": {
        "id": "-yVxKrStrbNM",
        "colab_type": "text"
      },
      "source": [
        "### 할당 연산자(Assignment Operator): `=`\n",
        "\n",
        "* 변수는 `=`을 통해 할당(assignment) 된다. \n",
        "\n",
        "* 해당 데이터 타입을 확인하기 위해서는 `type()`을 활용한다.\n",
        "\n",
        "* 해당 값의 메모리 주소를 확인하기 위해서는 `id()`를 활용한다."
      ]
    },
    {
      "cell_type": "code",
      "metadata": {
        "id": "CyASMjaGrbNM",
        "colab_type": "code",
        "colab": {}
      },
      "source": [
        "# 변수에 값을 할당해봅시다."
      ],
      "execution_count": null,
      "outputs": []
    },
    {
      "cell_type": "code",
      "metadata": {
        "id": "jUtHM-6wrbNO",
        "colab_type": "code",
        "colab": {}
      },
      "source": [
        "x = 'ssafy'"
      ],
      "execution_count": 12,
      "outputs": []
    },
    {
      "cell_type": "code",
      "metadata": {
        "id": "zLVZALeWrbNP",
        "colab_type": "code",
        "colab": {}
      },
      "source": [
        "# type()을 사용해봅시다."
      ],
      "execution_count": null,
      "outputs": []
    },
    {
      "cell_type": "code",
      "metadata": {
        "id": "UuyK6ShWrbNR",
        "colab_type": "code",
        "colab": {
          "base_uri": "https://localhost:8080/",
          "height": 34
        },
        "outputId": "53d587ed-3732-481e-b7f9-834fb2977986"
      },
      "source": [
        "type(x)"
      ],
      "execution_count": 13,
      "outputs": [
        {
          "output_type": "execute_result",
          "data": {
            "text/plain": [
              "str"
            ]
          },
          "metadata": {
            "tags": []
          },
          "execution_count": 13
        }
      ]
    },
    {
      "cell_type": "code",
      "metadata": {
        "id": "XhYoZ4LnrbNT",
        "colab_type": "code",
        "colab": {}
      },
      "source": [
        "# id()를 사용해봅시다."
      ],
      "execution_count": null,
      "outputs": []
    },
    {
      "cell_type": "code",
      "metadata": {
        "id": "8sl5FgvurbNV",
        "colab_type": "code",
        "colab": {
          "base_uri": "https://localhost:8080/",
          "height": 34
        },
        "outputId": "84e8a1df-2e1e-4787-e305-88090ea916c0"
      },
      "source": [
        "id(x)"
      ],
      "execution_count": 14,
      "outputs": [
        {
          "output_type": "execute_result",
          "data": {
            "text/plain": [
              "140003702853504"
            ]
          },
          "metadata": {
            "tags": []
          },
          "execution_count": 14
        }
      ]
    },
    {
      "cell_type": "markdown",
      "metadata": {
        "id": "hrDRTDsjrbNX",
        "colab_type": "text"
      },
      "source": [
        "* 같은 값을 동시에 할당할 수 있다."
      ]
    },
    {
      "cell_type": "code",
      "metadata": {
        "id": "nZ9aTeFfrbNX",
        "colab_type": "code",
        "colab": {}
      },
      "source": [
        "# 같은 값을 동시에 할당해봅시다."
      ],
      "execution_count": null,
      "outputs": []
    },
    {
      "cell_type": "code",
      "metadata": {
        "id": "OxK1CE__rbNZ",
        "colab_type": "code",
        "colab": {
          "base_uri": "https://localhost:8080/",
          "height": 52
        },
        "outputId": "999cb699-a5f0-4df6-c3d4-1e840420f34b"
      },
      "source": [
        "x = y = 'ssafy'\n",
        "print(x)\n",
        "print(y)"
      ],
      "execution_count": 16,
      "outputs": [
        {
          "output_type": "stream",
          "text": [
            "ssafy\n",
            "ssafy\n"
          ],
          "name": "stdout"
        }
      ]
    },
    {
      "cell_type": "markdown",
      "metadata": {
        "id": "P8yiryUzrbNb",
        "colab_type": "text"
      },
      "source": [
        "* 다른 값을 동시에 할당 가능하다."
      ]
    },
    {
      "cell_type": "code",
      "metadata": {
        "id": "YBL5WULfrbNb",
        "colab_type": "code",
        "colab": {}
      },
      "source": [
        "# 동시에 두개의 변수에 값 두개를 할당해봅시다."
      ],
      "execution_count": null,
      "outputs": []
    },
    {
      "cell_type": "code",
      "metadata": {
        "id": "SQCWfypirbNd",
        "colab_type": "code",
        "colab": {
          "base_uri": "https://localhost:8080/",
          "height": 34
        },
        "outputId": "d1fb6ec9-d538-489f-f108-a936edb25385"
      },
      "source": [
        "a, b = 2020, 4 \n",
        "print(a, b)\n"
      ],
      "execution_count": 18,
      "outputs": [
        {
          "output_type": "stream",
          "text": [
            "2020 4\n"
          ],
          "name": "stdout"
        }
      ]
    },
    {
      "cell_type": "code",
      "metadata": {
        "id": "bLnIT2WBrbNf",
        "colab_type": "code",
        "colab": {}
      },
      "source": [
        "# 변수의 개수가 더 많을 때 오류를 알아봅시다."
      ],
      "execution_count": null,
      "outputs": []
    },
    {
      "cell_type": "code",
      "metadata": {
        "id": "oZmkDyB7rbNh",
        "colab_type": "code",
        "colab": {
          "base_uri": "https://localhost:8080/",
          "height": 169
        },
        "outputId": "cc358618-0e3b-45a5-f183-1c8dc292553e"
      },
      "source": [
        "a, b, c = 10, 20"
      ],
      "execution_count": 19,
      "outputs": [
        {
          "output_type": "error",
          "ename": "ValueError",
          "evalue": "ignored",
          "traceback": [
            "\u001b[0;31m---------------------------------------------------------------------------\u001b[0m",
            "\u001b[0;31mValueError\u001b[0m                                Traceback (most recent call last)",
            "\u001b[0;32m<ipython-input-19-9892a2d31303>\u001b[0m in \u001b[0;36m<module>\u001b[0;34m()\u001b[0m\n\u001b[0;32m----> 1\u001b[0;31m \u001b[0ma\u001b[0m\u001b[0;34m,\u001b[0m \u001b[0mb\u001b[0m\u001b[0;34m,\u001b[0m \u001b[0mc\u001b[0m \u001b[0;34m=\u001b[0m \u001b[0;36m10\u001b[0m\u001b[0;34m,\u001b[0m \u001b[0;36m20\u001b[0m\u001b[0;34m\u001b[0m\u001b[0;34m\u001b[0m\u001b[0m\n\u001b[0m",
            "\u001b[0;31mValueError\u001b[0m: not enough values to unpack (expected 3, got 2)"
          ]
        }
      ]
    },
    {
      "cell_type": "code",
      "metadata": {
        "id": "JsO1yF5MrbNj",
        "colab_type": "code",
        "colab": {}
      },
      "source": [
        "# 변수의 개수가 더 적을 때 오류를 알아봅시다."
      ],
      "execution_count": null,
      "outputs": []
    },
    {
      "cell_type": "code",
      "metadata": {
        "id": "VVsP3FLOrbNl",
        "colab_type": "code",
        "colab": {
          "base_uri": "https://localhost:8080/",
          "height": 169
        },
        "outputId": "50318a07-c7bf-463e-e603-44eff8845d53"
      },
      "source": [
        "a, b, c = 10, 20, 30, 40"
      ],
      "execution_count": 20,
      "outputs": [
        {
          "output_type": "error",
          "ename": "ValueError",
          "evalue": "ignored",
          "traceback": [
            "\u001b[0;31m---------------------------------------------------------------------------\u001b[0m",
            "\u001b[0;31mValueError\u001b[0m                                Traceback (most recent call last)",
            "\u001b[0;32m<ipython-input-20-955f56948506>\u001b[0m in \u001b[0;36m<module>\u001b[0;34m()\u001b[0m\n\u001b[0;32m----> 1\u001b[0;31m \u001b[0ma\u001b[0m\u001b[0;34m,\u001b[0m \u001b[0mb\u001b[0m\u001b[0;34m,\u001b[0m \u001b[0mc\u001b[0m \u001b[0;34m=\u001b[0m \u001b[0;36m10\u001b[0m\u001b[0;34m,\u001b[0m \u001b[0;36m20\u001b[0m\u001b[0;34m,\u001b[0m \u001b[0;36m30\u001b[0m\u001b[0;34m,\u001b[0m \u001b[0;36m40\u001b[0m\u001b[0;34m\u001b[0m\u001b[0;34m\u001b[0m\u001b[0m\n\u001b[0m",
            "\u001b[0;31mValueError\u001b[0m: too many values to unpack (expected 3)"
          ]
        }
      ]
    },
    {
      "cell_type": "markdown",
      "metadata": {
        "id": "gGtmd5e6rbNn",
        "colab_type": "text"
      },
      "source": [
        "* 이를 활용하면 서로 값을 바꾸고 싶은 경우 아래와 같이 활용 가능하다."
      ]
    },
    {
      "cell_type": "code",
      "metadata": {
        "id": "rHiqSZ9nrbNn",
        "colab_type": "code",
        "colab": {}
      },
      "source": [
        "# 변수 x와 y의 값을 바꿔봅시다."
      ],
      "execution_count": null,
      "outputs": []
    },
    {
      "cell_type": "code",
      "metadata": {
        "id": "qOCViOlQrbNp",
        "colab_type": "code",
        "colab": {
          "base_uri": "https://localhost:8080/",
          "height": 52
        },
        "outputId": "f9ae58e2-2eb5-4880-859d-030906a95996"
      },
      "source": [
        "a,b = 10, 20\n",
        "print (a)\n",
        "print (b)\n"
      ],
      "execution_count": 23,
      "outputs": [
        {
          "output_type": "stream",
          "text": [
            "10\n",
            "20\n"
          ],
          "name": "stdout"
        }
      ]
    },
    {
      "cell_type": "code",
      "metadata": {
        "id": "XbjKaJvYzoEo",
        "colab_type": "code",
        "colab": {
          "base_uri": "https://localhost:8080/",
          "height": 34
        },
        "outputId": "bbbb4c7b-4bdd-44b3-fdec-d370d1102833"
      },
      "source": [
        "(a,b) = (b, a)\n",
        "print( a,b) "
      ],
      "execution_count": 24,
      "outputs": [
        {
          "output_type": "stream",
          "text": [
            "20 10\n"
          ],
          "name": "stdout"
        }
      ]
    },
    {
      "cell_type": "markdown",
      "metadata": {
        "id": "VfnZo8s0rbNq",
        "colab_type": "text"
      },
      "source": [
        "### 식별자(Identifiers)\n",
        "\n",
        "파이썬에서 식별자는 변수, 함수, 모듈, 클래스 등을 식별하는데 사용되는 이름(name)입니다. \n",
        "\n",
        "* 식별자의 이름은 영문알파벳(대문자와 소문자), 밑줄(_), 숫자로 구성된다.\n",
        "* 첫 글자에 숫자가 올 수 없다.\n",
        "* 길이에 제한이 없다.\n",
        "* 대소문자(case)를 구별한다.\n",
        "* 아래의 예약어는 사용할 수 없다. \n",
        "\n",
        "```\n",
        "False, None, True, and, as, assert, break, class, continue, def, del, elif, else, except, finally, for, from, global, if, import, in, is, lambda, nonlocal, not, or, pass, raise, return, try, while, with, yield\n",
        "```"
      ]
    },
    {
      "cell_type": "code",
      "metadata": {
        "id": "8NyTlxcqrbNr",
        "colab_type": "code",
        "colab": {
          "base_uri": "https://localhost:8080/",
          "height": 54
        },
        "outputId": "3f9084e8-2241-4421-f73d-3989381ae64a"
      },
      "source": [
        "# 예약어들을 직접 확인해봅시다.\n",
        "import keyword\n",
        "print (keyword.kwlist)\n"
      ],
      "execution_count": 26,
      "outputs": [
        {
          "output_type": "stream",
          "text": [
            "['False', 'None', 'True', 'and', 'as', 'assert', 'break', 'class', 'continue', 'def', 'del', 'elif', 'else', 'except', 'finally', 'for', 'from', 'global', 'if', 'import', 'in', 'is', 'lambda', 'nonlocal', 'not', 'or', 'pass', 'raise', 'return', 'try', 'while', 'with', 'yield']\n"
          ],
          "name": "stdout"
        }
      ]
    },
    {
      "cell_type": "code",
      "metadata": {
        "id": "b4NfaStW1DAY",
        "colab_type": "code",
        "colab": {}
      },
      "source": [
        ""
      ],
      "execution_count": null,
      "outputs": []
    },
    {
      "cell_type": "code",
      "metadata": {
        "id": "s2h4iba5rbNt",
        "colab_type": "code",
        "colab": {}
      },
      "source": [
        "# import 구문은 모듈파트에서 다시 알아봅시다.\n"
      ],
      "execution_count": null,
      "outputs": []
    },
    {
      "cell_type": "markdown",
      "metadata": {
        "id": "eRxt9XCnrbNu",
        "colab_type": "text"
      },
      "source": [
        "*  내장함수나 모듈 등의 이름으로도 만들면 안된다."
      ]
    },
    {
      "cell_type": "code",
      "metadata": {
        "id": "VbKBexsurbNv",
        "colab_type": "code",
        "colab": {}
      },
      "source": [
        "# 내장함수의 이름을 사용하면 어떤일이 일어나는지 확인해봅시다."
      ],
      "execution_count": null,
      "outputs": []
    },
    {
      "cell_type": "code",
      "metadata": {
        "id": "UBJlCQNarbNw",
        "colab_type": "code",
        "colab": {
          "base_uri": "https://localhost:8080/",
          "height": 186
        },
        "outputId": "9cdfffb6-9041-4baa-8bba-3933c2bb3a0b"
      },
      "source": [
        "# print는 값을 출력해주는 내장함수(Built-in function)입니다.\n",
        "print('hello')"
      ],
      "execution_count": 29,
      "outputs": [
        {
          "output_type": "error",
          "ename": "TypeError",
          "evalue": "ignored",
          "traceback": [
            "\u001b[0;31m---------------------------------------------------------------------------\u001b[0m",
            "\u001b[0;31mTypeError\u001b[0m                                 Traceback (most recent call last)",
            "\u001b[0;32m<ipython-input-29-680b6c357619>\u001b[0m in \u001b[0;36m<module>\u001b[0;34m()\u001b[0m\n\u001b[1;32m      1\u001b[0m \u001b[0;31m# print는 값을 출력해주는 내장함수(Built-in function)입니다.\u001b[0m\u001b[0;34m\u001b[0m\u001b[0;34m\u001b[0m\u001b[0;34m\u001b[0m\u001b[0m\n\u001b[0;32m----> 2\u001b[0;31m \u001b[0mprint\u001b[0m\u001b[0;34m(\u001b[0m\u001b[0;34m'hello'\u001b[0m\u001b[0;34m)\u001b[0m\u001b[0;34m\u001b[0m\u001b[0;34m\u001b[0m\u001b[0m\n\u001b[0m",
            "\u001b[0;31mTypeError\u001b[0m: 'str' object is not callable"
          ]
        }
      ]
    },
    {
      "cell_type": "code",
      "metadata": {
        "id": "n9SSasBbrbNy",
        "colab_type": "code",
        "colab": {
          "base_uri": "https://localhost:8080/",
          "height": 204
        },
        "outputId": "6e5c59b6-859e-4391-b490-db4aff687f44"
      },
      "source": [
        "# 예시로 print에 값을 할당해보고, 오류를 확인해봅시다.\n",
        "# print은 이제 'hi'라는 값으로 인식되기 때문에 이전의 기능을 수행하지 못합니다.\n",
        "print = 'ssafy'\n",
        "print(print)"
      ],
      "execution_count": 28,
      "outputs": [
        {
          "output_type": "error",
          "ename": "TypeError",
          "evalue": "ignored",
          "traceback": [
            "\u001b[0;31m---------------------------------------------------------------------------\u001b[0m",
            "\u001b[0;31mTypeError\u001b[0m                                 Traceback (most recent call last)",
            "\u001b[0;32m<ipython-input-28-9e3b0c680846>\u001b[0m in \u001b[0;36m<module>\u001b[0;34m()\u001b[0m\n\u001b[1;32m      2\u001b[0m \u001b[0;31m# print은 이제 'hi'라는 값으로 인식되기 때문에 이전의 기능을 수행하지 못합니다.\u001b[0m\u001b[0;34m\u001b[0m\u001b[0;34m\u001b[0m\u001b[0;34m\u001b[0m\u001b[0m\n\u001b[1;32m      3\u001b[0m \u001b[0mprint\u001b[0m \u001b[0;34m=\u001b[0m \u001b[0;34m'ssafy'\u001b[0m\u001b[0;34m\u001b[0m\u001b[0;34m\u001b[0m\u001b[0m\n\u001b[0;32m----> 4\u001b[0;31m \u001b[0mprint\u001b[0m\u001b[0;34m(\u001b[0m\u001b[0mprint\u001b[0m\u001b[0;34m)\u001b[0m\u001b[0;34m\u001b[0m\u001b[0;34m\u001b[0m\u001b[0m\n\u001b[0m",
            "\u001b[0;31mTypeError\u001b[0m: 'str' object is not callable"
          ]
        }
      ]
    },
    {
      "cell_type": "code",
      "metadata": {
        "id": "EWU7GxhPrbN1",
        "colab_type": "code",
        "colab": {}
      },
      "source": [
        "# 뒤에서 진행될 코드에 영향이 갈 수 있기 때문에 방금 생성한 print를 삭제합니다.\n",
        "del print"
      ],
      "execution_count": 30,
      "outputs": []
    },
    {
      "cell_type": "code",
      "metadata": {
        "id": "_3PGGJr01mXI",
        "colab_type": "code",
        "colab": {
          "base_uri": "https://localhost:8080/",
          "height": 34
        },
        "outputId": "ef558fe6-5d0c-439a-e68a-0a46fc989c33"
      },
      "source": [
        "print('hello')"
      ],
      "execution_count": 31,
      "outputs": [
        {
          "output_type": "stream",
          "text": [
            "hello\n"
          ],
          "name": "stdout"
        }
      ]
    },
    {
      "cell_type": "markdown",
      "metadata": {
        "id": "Yj-3EUgWrbN3",
        "colab_type": "text"
      },
      "source": [
        "# 데이터 타입(Data Type)\n",
        "\n",
        "- **숫자**(Number) 타입\n",
        "- **글자**(String) 타입\n",
        "- **참/거짓**(Boolean) 타입\n"
      ]
    },
    {
      "cell_type": "markdown",
      "metadata": {
        "id": "bUSiBrVVrbN3",
        "colab_type": "text"
      },
      "source": [
        "## 숫자(Number) 타입\n",
        "[python doc 숫자 형](https://docs.python.org/ko/3.7/library/stdtypes.html#numeric-types-int-float-complex)\n",
        "\n"
      ]
    },
    {
      "cell_type": "markdown",
      "metadata": {
        "id": "SSmAJN3krbN4",
        "colab_type": "text"
      },
      "source": [
        "###  (1) `int` (정수, ingteger)\n",
        "\n",
        "모든 정수는 `int`로 표현됩니다.\n",
        "\n",
        "파이썬 3.x 버전에서는 `long` 타입은 없고 모두 `int` 타입으로 표기 됩니다.\n",
        "\n",
        "* python 3.x에서 long은 없어졌다.\n",
        "* 보통 프로그래밍 언어 및 파이썬 2.x에서의 long은 OS 기준 32/64비트이다.\n",
        "* 파이썬 3.x에서는 모두 int로 통합되었다.\n",
        "\n",
        "8진수 : `0o` / 2진수 : `0b` / 16진수: `0x` 로도 표현 가능합니다. "
      ]
    },
    {
      "cell_type": "code",
      "metadata": {
        "id": "TMCo4D_2rbN4",
        "colab_type": "code",
        "colab": {}
      },
      "source": [
        "# 변수에 정수를 넣고 해당 변수의 type을 알아봅시다."
      ],
      "execution_count": null,
      "outputs": []
    },
    {
      "cell_type": "code",
      "metadata": {
        "id": "fcpkU-2YrbN6",
        "colab_type": "code",
        "colab": {
          "base_uri": "https://localhost:8080/",
          "height": 34
        },
        "outputId": "bed8abf6-1260-4f46-cbae-643e4d3b6870"
      },
      "source": [
        "a = 4 ** 2 \n",
        "type(a)\n"
      ],
      "execution_count": 32,
      "outputs": [
        {
          "output_type": "execute_result",
          "data": {
            "text/plain": [
              "int"
            ]
          },
          "metadata": {
            "tags": []
          },
          "execution_count": 32
        }
      ]
    },
    {
      "cell_type": "markdown",
      "metadata": {
        "id": "CNgdTcmIrbN9",
        "colab_type": "text"
      },
      "source": [
        "**파이썬에서 표현할 수 있는 가장 큰 수**\n",
        "* 파이썬에서 가장 큰 숫자를 활용하기 위해 sys 모듈을 불러온다.\n",
        "* 파이썬은 기존 C 계열 프로그래밍 언어와 다르게 정수 자료형(integer)에서 오버플로우가 없다.\n",
        "* arbitrary-precision arithmetic를 사용하기 때문이다. \n",
        "\n",
        "> **오버플로우(overflow)**\n",
        "- 데이터 타입 별로 사용할 수 있는 메모리의 크기가 제한되어 있다.\n",
        "- 표현할 수 있는 수의 범위를 넘어가는 연산을 하게 되면, 기대했던 값이 출력되지 않는 현상, 즉 메모리가 차고 넘쳐 흐르는 현상\n",
        "\n",
        "> **arbitrary-precision arithmetic**\n",
        "- [파이썬에서 아주 큰 정수를 표현할 때 사용하는 메모리의 크기 변화](https://mortada.net/can-integer-operations-overflow-in-python.html)\n",
        "- 사용할 수 있는 메모리양이 정해져 있는 기존의 방식과 달리, 현재 남아있는 만큼의 가용 메모리를 모두 수 표현에 끌어다 쓸 수 있는 형태\n",
        "- 특정 값을 나타내는데 4바이트가 부족하다면 5바이트, 더 부족하면 6바이트까지 사용할 수 있게 유동적으로 운용\n"
      ]
    },
    {
      "cell_type": "code",
      "metadata": {
        "id": "f7cGkHD_rbN-",
        "colab_type": "code",
        "colab": {}
      },
      "source": [
        "# n진수를 만들어보고, 출력해봅시다."
      ],
      "execution_count": null,
      "outputs": []
    },
    {
      "cell_type": "code",
      "metadata": {
        "id": "dy6YDuvYrbN_",
        "colab_type": "code",
        "colab": {
          "base_uri": "https://localhost:8080/",
          "height": 34
        },
        "outputId": "446df575-7dab-4da2-dfc8-6a5fe3a8997c"
      },
      "source": [
        "import sys\n",
        "print(sys.maxsize* sys.maxsize)\n",
        "# 파이썬은 크기제한이 없음!"
      ],
      "execution_count": 34,
      "outputs": [
        {
          "output_type": "stream",
          "text": [
            "85070591730234615847396907784232501249\n"
          ],
          "name": "stdout"
        }
      ]
    },
    {
      "cell_type": "code",
      "metadata": {
        "id": "69mskABd22kA",
        "colab_type": "code",
        "colab": {
          "base_uri": "https://localhost:8080/",
          "height": 70
        },
        "outputId": "63d4380d-e306-4b53-9e6d-648bc00c1edc"
      },
      "source": [
        "binary_number = 0b10\n",
        "print(binary_number)\n",
        "octal_number = 0o10\n",
        "print(octal_number)\n",
        "hexadecimal_number = 0x10\n",
        "print(hexadecimal_number)\n"
      ],
      "execution_count": 37,
      "outputs": [
        {
          "output_type": "stream",
          "text": [
            "2\n",
            "8\n",
            "16\n"
          ],
          "name": "stdout"
        }
      ]
    },
    {
      "cell_type": "markdown",
      "metadata": {
        "id": "qAMMd3dIrbOB",
        "colab_type": "text"
      },
      "source": [
        "### (2) `float` (부동소수점, 실수, floating point number)\n",
        "\n",
        "실수는 `float`로 표현됩니다. \n",
        "\n",
        "다만, 실수를 컴퓨터가 표현하는 과정에서 부동소수점을 사용하며, 항상 같은 값으로 일치되지 않습니다. (floating point rounding error)\n",
        "\n",
        "이는 컴퓨터가 2진수(비트)를 통해 숫자를 표현하는 과정에서 생기는 오류이며, 대부분의 경우는 중요하지 않으나 값을 같은지 비교하는 과정에서 문제가 발생할 수 있습니다."
      ]
    },
    {
      "cell_type": "code",
      "metadata": {
        "id": "mVIHzJ7drbOB",
        "colab_type": "code",
        "colab": {}
      },
      "source": [
        "# 변수에 실수를 넣고 해당 변수의 type을 알아봅시다."
      ],
      "execution_count": null,
      "outputs": []
    },
    {
      "cell_type": "code",
      "metadata": {
        "id": "1pGDfBd9rbOC",
        "colab_type": "code",
        "colab": {
          "base_uri": "https://localhost:8080/",
          "height": 34
        },
        "outputId": "59b44964-2a8b-4775-a55d-ed5316e07d9b"
      },
      "source": [
        "b= 3.14 \n",
        "type(b)\n"
      ],
      "execution_count": 38,
      "outputs": [
        {
          "output_type": "execute_result",
          "data": {
            "text/plain": [
              "float"
            ]
          },
          "metadata": {
            "tags": []
          },
          "execution_count": 38
        }
      ]
    },
    {
      "cell_type": "markdown",
      "metadata": {
        "id": "tqmzZZqOrbOE",
        "colab_type": "text"
      },
      "source": [
        "#### 컴퓨터식 지수 표현 방식\n",
        "* e를 사용할 수도 있다. (e와 E 둘 중 어느 것을 사용해도 무방)"
      ]
    },
    {
      "cell_type": "code",
      "metadata": {
        "id": "FZDHpBULrbOE",
        "colab_type": "code",
        "colab": {}
      },
      "source": [
        "# 컴퓨터식 지수 표현 방식을 사용해봅시다."
      ],
      "execution_count": null,
      "outputs": []
    },
    {
      "cell_type": "code",
      "metadata": {
        "id": "tp_NXqTprbOG",
        "colab_type": "code",
        "colab": {
          "base_uri": "https://localhost:8080/",
          "height": 52
        },
        "outputId": "3ab1ecbf-5a91-4abb-a58e-8519ae1a9c84"
      },
      "source": [
        "b = 314e-2\n",
        "print(b)\n",
        "type(b)"
      ],
      "execution_count": 42,
      "outputs": [
        {
          "output_type": "stream",
          "text": [
            "3.14\n"
          ],
          "name": "stdout"
        },
        {
          "output_type": "execute_result",
          "data": {
            "text/plain": [
              "float"
            ]
          },
          "metadata": {
            "tags": []
          },
          "execution_count": 42
        }
      ]
    },
    {
      "cell_type": "markdown",
      "metadata": {
        "id": "9vvgKXS8rbOI",
        "colab_type": "text"
      },
      "source": [
        "#### 실수의 연산\n",
        "* 실수의 경우 실제로 값을 처리하기 위해서는 조심할 필요가 있다. __이걸로 평가를 봄__"
      ]
    },
    {
      "cell_type": "code",
      "metadata": {
        "id": "xDYkNg-FrbOJ",
        "colab_type": "code",
        "colab": {}
      },
      "source": [
        "# 실수의 덧셈을 해봅시다."
      ],
      "execution_count": null,
      "outputs": []
    },
    {
      "cell_type": "code",
      "metadata": {
        "id": "PPxOw9XFrbOL",
        "colab_type": "code",
        "colab": {
          "base_uri": "https://localhost:8080/",
          "height": 34
        },
        "outputId": "c57c4201-255b-44cf-995b-5d6d4f2ae3f9"
      },
      "source": [
        "3.5 + 3.2 "
      ],
      "execution_count": 43,
      "outputs": [
        {
          "output_type": "execute_result",
          "data": {
            "text/plain": [
              "6.7"
            ]
          },
          "metadata": {
            "tags": []
          },
          "execution_count": 43
        }
      ]
    },
    {
      "cell_type": "code",
      "metadata": {
        "id": "7cKjq0vMrbOO",
        "colab_type": "code",
        "colab": {}
      },
      "source": [
        "# 실수의 뺄셈을 해봅시다."
      ],
      "execution_count": null,
      "outputs": []
    },
    {
      "cell_type": "code",
      "metadata": {
        "id": "y2ttxHM1rbOP",
        "colab_type": "code",
        "colab": {
          "base_uri": "https://localhost:8080/",
          "height": 34
        },
        "outputId": "4c5177f5-8c11-4ef4-cf60-d81a534c11c5"
      },
      "source": [
        "3.5 - 3.2 == 0.3"
      ],
      "execution_count": 45,
      "outputs": [
        {
          "output_type": "execute_result",
          "data": {
            "text/plain": [
              "False"
            ]
          },
          "metadata": {
            "tags": []
          },
          "execution_count": 45
        }
      ]
    },
    {
      "cell_type": "code",
      "metadata": {
        "id": "W0qrAh38rbOR",
        "colab_type": "code",
        "colab": {}
      },
      "source": [
        "# 우리가 원하는대로 반올림을 해봅시다.\n",
        "# round() 는 0~4는 내림, 5는 동일하게 작동하지 않고 반올림 방식에 따라 다릅니다.\n",
        "# 짝수에서 5는 내림 / 홀수에서 5는 올림"
      ],
      "execution_count": null,
      "outputs": []
    },
    {
      "cell_type": "code",
      "metadata": {
        "id": "rDG8qO6brbOV",
        "colab_type": "code",
        "colab": {
          "base_uri": "https://localhost:8080/",
          "height": 34
        },
        "outputId": "6563b686-9050-4c4b-b21d-4196de028b83"
      },
      "source": [
        "round(3.5 - 3.2, 2)  "
      ],
      "execution_count": 47,
      "outputs": [
        {
          "output_type": "execute_result",
          "data": {
            "text/plain": [
              "0.3"
            ]
          },
          "metadata": {
            "tags": []
          },
          "execution_count": 47
        }
      ]
    },
    {
      "cell_type": "code",
      "metadata": {
        "id": "ob2weD60rbOX",
        "colab_type": "code",
        "colab": {}
      },
      "source": [
        "# 두 개의 값이 같은지 확인해봅시다."
      ],
      "execution_count": null,
      "outputs": []
    },
    {
      "cell_type": "code",
      "metadata": {
        "id": "XuCPehRVrbOa",
        "colab_type": "code",
        "colab": {
          "base_uri": "https://localhost:8080/",
          "height": 34
        },
        "outputId": "74861368-d923-4d63-b9f3-dfa96901bcf1"
      },
      "source": [
        "round(3.5 - 3.2, 2)  == 0.3"
      ],
      "execution_count": 48,
      "outputs": [
        {
          "output_type": "execute_result",
          "data": {
            "text/plain": [
              "True"
            ]
          },
          "metadata": {
            "tags": []
          },
          "execution_count": 48
        }
      ]
    },
    {
      "cell_type": "markdown",
      "metadata": {
        "id": "DSST03t1rbOd",
        "colab_type": "text"
      },
      "source": [
        "* 따라서 다음과 같은 방법으로 처리 할 수 있다. (이외에 다양한 방법이 있음)"
      ]
    },
    {
      "cell_type": "code",
      "metadata": {
        "id": "L-TmmPKWrbOd",
        "colab_type": "code",
        "colab": {}
      },
      "source": [
        "# 1. 기본적인 처리방법을 알아봅시다."
      ],
      "execution_count": null,
      "outputs": []
    },
    {
      "cell_type": "code",
      "metadata": {
        "id": "xla7wKA-rbOe",
        "colab_type": "code",
        "colab": {
          "base_uri": "https://localhost:8080/",
          "height": 34
        },
        "outputId": "489287db-8586-4256-bb9a-e99a07d6f5f2"
      },
      "source": [
        "a = 3.5 - 3.2\n",
        "b = 0.3\n",
        " \n",
        "a == b"
      ],
      "execution_count": 49,
      "outputs": [
        {
          "output_type": "execute_result",
          "data": {
            "text/plain": [
              "False"
            ]
          },
          "metadata": {
            "tags": []
          },
          "execution_count": 49
        }
      ]
    },
    {
      "cell_type": "code",
      "metadata": {
        "id": "4jvGi2B3rbOg",
        "colab_type": "code",
        "colab": {}
      },
      "source": [
        "# 2. sys 모듈을 통해 처리하는 방법을 알아봅시다.\n",
        "# `epsilon` 은 부동소수점 연산에서 반올림을 함으로써 발생하는 오차 상환\n",
        " # 매우작은 숫자 "
      ],
      "execution_count": null,
      "outputs": []
    },
    {
      "cell_type": "code",
      "metadata": {
        "id": "uHo8IZ3QrbOh",
        "colab_type": "code",
        "colab": {
          "base_uri": "https://localhost:8080/",
          "height": 70
        },
        "outputId": "b54a2890-4945-4cd9-fe7c-b1954ef9a13a"
      },
      "source": [
        "import sys \n",
        "print(sys.float_info.epsilon)\n",
        "\n",
        "print(1e-10)\n",
        "abs( a-b ) <= sys.float_info.epsilon"
      ],
      "execution_count": 55,
      "outputs": [
        {
          "output_type": "stream",
          "text": [
            "2.220446049250313e-16\n",
            "1e-10\n"
          ],
          "name": "stdout"
        },
        {
          "output_type": "execute_result",
          "data": {
            "text/plain": [
              "True"
            ]
          },
          "metadata": {
            "tags": []
          },
          "execution_count": 55
        }
      ]
    },
    {
      "cell_type": "code",
      "metadata": {
        "id": "BsC-goNLrbOi",
        "colab_type": "code",
        "colab": {}
      },
      "source": [
        "# 3. python 3.5부터 활용 가능한 math 모듈을 통해 처리하는 법을 알아봅시다."
      ],
      "execution_count": null,
      "outputs": []
    },
    {
      "cell_type": "code",
      "metadata": {
        "id": "jYqTsUmTrbOj",
        "colab_type": "code",
        "colab": {
          "base_uri": "https://localhost:8080/",
          "height": 34
        },
        "outputId": "abce18f8-7a89-4861-94e3-d8420b9d0c51"
      },
      "source": [
        "import math\n",
        "math.isclose(a,b)"
      ],
      "execution_count": 56,
      "outputs": [
        {
          "output_type": "execute_result",
          "data": {
            "text/plain": [
              "True"
            ]
          },
          "metadata": {
            "tags": []
          },
          "execution_count": 56
        }
      ]
    },
    {
      "cell_type": "markdown",
      "metadata": {
        "id": "QsCQzmvSrbOl",
        "colab_type": "text"
      },
      "source": [
        "### (3) `complex` (복소수, complex number)\n",
        "\n",
        "각각 실수로 표현되는 실수부와 허수부를 가집니다.\n",
        "\n",
        "복소수는 허수부를 `j`로 표현합니다."
      ]
    },
    {
      "cell_type": "code",
      "metadata": {
        "id": "KYJtN15CrbOl",
        "colab_type": "code",
        "colab": {}
      },
      "source": [
        "# 변수에 복소수를 넣고 해당 변수의 type을 알아봅시다."
      ],
      "execution_count": null,
      "outputs": []
    },
    {
      "cell_type": "code",
      "metadata": {
        "id": "gioeKv0ErbOm",
        "colab_type": "code",
        "colab": {
          "base_uri": "https://localhost:8080/",
          "height": 34
        },
        "outputId": "8e5c6d84-ec2a-4f0e-df3e-c63469d6a244"
      },
      "source": [
        "a = 3 + 4j\n",
        "type(a)"
      ],
      "execution_count": 57,
      "outputs": [
        {
          "output_type": "execute_result",
          "data": {
            "text/plain": [
              "complex"
            ]
          },
          "metadata": {
            "tags": []
          },
          "execution_count": 57
        }
      ]
    },
    {
      "cell_type": "code",
      "metadata": {
        "id": "JiwCKvjfrbOn",
        "colab_type": "code",
        "colab": {}
      },
      "source": [
        "# 문자열을 복소수로 변환해봅시다."
      ],
      "execution_count": null,
      "outputs": []
    },
    {
      "cell_type": "code",
      "metadata": {
        "id": "YA52vTUTrbOo",
        "colab_type": "code",
        "colab": {
          "base_uri": "https://localhost:8080/",
          "height": 34
        },
        "outputId": "b7e285e8-a3f5-4695-f126-354a1583b13e"
      },
      "source": [
        "b = complex('3+4j')\n",
        "type(b)"
      ],
      "execution_count": 58,
      "outputs": [
        {
          "output_type": "execute_result",
          "data": {
            "text/plain": [
              "complex"
            ]
          },
          "metadata": {
            "tags": []
          },
          "execution_count": 58
        }
      ]
    },
    {
      "cell_type": "code",
      "metadata": {
        "id": "OgbPF65crbOr",
        "colab_type": "code",
        "colab": {}
      },
      "source": [
        "# 문자열을 변환할 때, 문자열은 중앙의 + 또는 - 연산자 주위에 공백을 포함해서는 안 됩니다."
      ],
      "execution_count": null,
      "outputs": []
    },
    {
      "cell_type": "code",
      "metadata": {
        "id": "GAJSFrNKrbOs",
        "colab_type": "code",
        "colab": {
          "base_uri": "https://localhost:8080/",
          "height": 169
        },
        "outputId": "ee8bab74-fb07-4e55-ee34-a3c5892acd28"
      },
      "source": [
        "c = complex(' 3 + 4j')"
      ],
      "execution_count": 59,
      "outputs": [
        {
          "output_type": "error",
          "ename": "ValueError",
          "evalue": "ignored",
          "traceback": [
            "\u001b[0;31m---------------------------------------------------------------------------\u001b[0m",
            "\u001b[0;31mValueError\u001b[0m                                Traceback (most recent call last)",
            "\u001b[0;32m<ipython-input-59-15540d9d45a7>\u001b[0m in \u001b[0;36m<module>\u001b[0;34m()\u001b[0m\n\u001b[0;32m----> 1\u001b[0;31m \u001b[0mc\u001b[0m \u001b[0;34m=\u001b[0m \u001b[0mcomplex\u001b[0m\u001b[0;34m(\u001b[0m\u001b[0;34m' 3 + 4j'\u001b[0m\u001b[0;34m)\u001b[0m\u001b[0;34m\u001b[0m\u001b[0;34m\u001b[0m\u001b[0m\n\u001b[0m",
            "\u001b[0;31mValueError\u001b[0m: complex() arg is a malformed string"
          ]
        }
      ]
    },
    {
      "cell_type": "markdown",
      "metadata": {
        "id": "Y7UUPKccrbOt",
        "colab_type": "text"
      },
      "source": [
        "## 문자(String) 타입\n",
        "\n",
        "### 기본 활용법\n",
        "\n",
        "* 문자열은 Single quotes(`'`)나 Double quotes(`\"`)을 활용하여 표현 가능하다.\n",
        "\n",
        "    - 작은따옴표: `'\"큰\" 따옴표를 담을 수 있습니다'`\n",
        "\n",
        "    - 큰따옴표: `\"'작은' 따옴표를 담을 수 있습니다\"`\n",
        "\n",
        "    - 삼중 따옴표: `'''세 개의 작은따옴표'''`, `\"\"\"세 개의 큰따옴표\"\"\"`\n",
        "\n",
        "\n",
        "* 단, 문자열을 묶을 때 동일한 문장부호를 활용해야하며, `PEP-8`에서는 **하나의 문장부호를 선택**하여 유지하도록 하고 있다. \n",
        "(Pick a rule and Stick to it)"
      ]
    },
    {
      "cell_type": "code",
      "metadata": {
        "id": "zSpKzjxVrbOt",
        "colab_type": "code",
        "colab": {}
      },
      "source": [
        "# 변수에 문자열을 넣고 출력해봅시다."
      ],
      "execution_count": null,
      "outputs": []
    },
    {
      "cell_type": "code",
      "metadata": {
        "id": "5lJwcLDvrbOv",
        "colab_type": "code",
        "colab": {
          "base_uri": "https://localhost:8080/",
          "height": 34
        },
        "outputId": "6a28092e-8788-4fc4-975c-c720550f9eff"
      },
      "source": [
        "greeting = 'hello'\n",
        "type(greeting)"
      ],
      "execution_count": 60,
      "outputs": [
        {
          "output_type": "execute_result",
          "data": {
            "text/plain": [
              "str"
            ]
          },
          "metadata": {
            "tags": []
          },
          "execution_count": 60
        }
      ]
    },
    {
      "cell_type": "code",
      "metadata": {
        "id": "fUBFe-xlrbOw",
        "colab_type": "code",
        "colab": {}
      },
      "source": [
        "# 사용자에게 받은 입력은 기본적으로 str입니다."
      ],
      "execution_count": null,
      "outputs": []
    },
    {
      "cell_type": "code",
      "metadata": {
        "id": "mfTPwrNnrbOx",
        "colab_type": "code",
        "colab": {
          "base_uri": "https://localhost:8080/",
          "height": 70
        },
        "outputId": "82dee518-39da-472a-85e3-8498bfc3e7b2"
      },
      "source": [
        "number = input('숫자를 입력해 주세요 : ')\n",
        "print(number * 2)\n",
        "num=int(number)\n",
        "print(num * 2)\n"
      ],
      "execution_count": 64,
      "outputs": [
        {
          "output_type": "stream",
          "text": [
            "숫자를 입력해 주세요 : 5\n",
            "55\n",
            "10\n"
          ],
          "name": "stdout"
        }
      ]
    },
    {
      "cell_type": "markdown",
      "metadata": {
        "id": "ys4AI_izrbOy",
        "colab_type": "text"
      },
      "source": [
        "#### 따옴표 사용\n",
        "\n",
        "문자열 안에 문장부호(`'`, `\"`)가 사용될 경우 이스케이프 문자(`\\`)를 활용 가능 합니다. "
      ]
    },
    {
      "cell_type": "code",
      "metadata": {
        "id": "t15aeUxNrbOz",
        "colab_type": "code",
        "colab": {}
      },
      "source": [
        "# 문자열 안에 문장부호를 활용해서 오류를 확인해봅시다."
      ],
      "execution_count": null,
      "outputs": []
    },
    {
      "cell_type": "code",
      "metadata": {
        "id": "XzPRYh45rbO0",
        "colab_type": "code",
        "colab": {
          "base_uri": "https://localhost:8080/",
          "height": 70
        },
        "outputId": "25a4d4cd-ff05-4147-c3d7-f9c57e475580"
      },
      "source": [
        "A = \"he's cool\"\n",
        "B = 'his name is \"SSAFY\" ' \n",
        "C = \"his name is \\\"SSAFY\\\" \"\n",
        "print(A)\n",
        "print(B)\n",
        "print(C)\n"
      ],
      "execution_count": 68,
      "outputs": [
        {
          "output_type": "stream",
          "text": [
            "he's cool\n",
            "his name is \"SSAFY\" \n",
            "his name is \"SSAFY\" \n"
          ],
          "name": "stdout"
        }
      ]
    },
    {
      "cell_type": "code",
      "metadata": {
        "id": "lZrpivK0rbO2",
        "colab_type": "code",
        "colab": {}
      },
      "source": [
        "# 오류를 이스케이프 문자와 서로 다른 문장부호를 통해 해결해봅시다."
      ],
      "execution_count": null,
      "outputs": []
    },
    {
      "cell_type": "code",
      "metadata": {
        "id": "VpsUnvTArbO3",
        "colab_type": "code",
        "colab": {}
      },
      "source": [
        ""
      ],
      "execution_count": null,
      "outputs": []
    },
    {
      "cell_type": "markdown",
      "metadata": {
        "id": "2nuJv06WrbO4",
        "colab_type": "text"
      },
      "source": [
        "여러줄에 걸쳐있는 문장은 다음과 같이 표현 가능합니다.\n",
        "\n",
        "* `PEP-8`에 따르면 이 경우에는 반드시 `\"\"\"`를 사용하도록 되어 있다."
      ]
    },
    {
      "cell_type": "code",
      "metadata": {
        "id": "ejbgYvcrrbO4",
        "colab_type": "code",
        "colab": {}
      },
      "source": [
        "# 여러줄을 출력해봅시다."
      ],
      "execution_count": null,
      "outputs": []
    },
    {
      "cell_type": "code",
      "metadata": {
        "id": "_QXQYkW7rbO5",
        "colab_type": "code",
        "colab": {
          "base_uri": "https://localhost:8080/",
          "height": 122
        },
        "outputId": "6e9de302-c73a-4a10-acba-1c4de6212eb6"
      },
      "source": [
        "print('''\n",
        "이건 \n",
        "여러줄에\n",
        "걸친\n",
        "문자열이다.\n",
        "''')"
      ],
      "execution_count": 69,
      "outputs": [
        {
          "output_type": "stream",
          "text": [
            "\n",
            "이건 \n",
            "여러줄에\n",
            "걸친\n",
            "문자열이다.\n",
            "\n"
          ],
          "name": "stdout"
        }
      ]
    },
    {
      "cell_type": "code",
      "metadata": {
        "id": "bikH5rj7rbO8",
        "colab_type": "code",
        "colab": {}
      },
      "source": [
        "# 문자열은 + 연산자로 이어붙이고, * 연산자로 반복시킬 수 있습니다.\n",
        "# concatenation // interpolation이 매우중요 "
      ],
      "execution_count": null,
      "outputs": []
    },
    {
      "cell_type": "code",
      "metadata": {
        "id": "MYz9Jz0orbO9",
        "colab_type": "code",
        "colab": {
          "base_uri": "https://localhost:8080/",
          "height": 35
        },
        "outputId": "6d01aa86-01e7-4997-d788-c3f7f80adf2f"
      },
      "source": [
        "'hello' + ' ' +'ssafy'  \n",
        "'hello ' *3"
      ],
      "execution_count": 72,
      "outputs": [
        {
          "output_type": "execute_result",
          "data": {
            "application/vnd.google.colaboratory.intrinsic": {
              "type": "string"
            },
            "text/plain": [
              "'hello hello hello '"
            ]
          },
          "metadata": {
            "tags": []
          },
          "execution_count": 72
        }
      ]
    },
    {
      "cell_type": "code",
      "metadata": {
        "id": "iFnF75WOrbO-",
        "colab_type": "code",
        "colab": {}
      },
      "source": [
        "# 변수화해서도 사용가능합니다."
      ],
      "execution_count": null,
      "outputs": []
    },
    {
      "cell_type": "code",
      "metadata": {
        "id": "770Nfn5MrbO_",
        "colab_type": "code",
        "colab": {
          "base_uri": "https://localhost:8080/",
          "height": 35
        },
        "outputId": "5bc0b3f5-8844-4be2-d0b1-e598a1960825"
      },
      "source": [
        "name = 'tom'\n",
        "'my name is ' + name\n",
        "name * 2"
      ],
      "execution_count": 74,
      "outputs": [
        {
          "output_type": "execute_result",
          "data": {
            "application/vnd.google.colaboratory.intrinsic": {
              "type": "string"
            },
            "text/plain": [
              "'tomtom'"
            ]
          },
          "metadata": {
            "tags": []
          },
          "execution_count": 74
        }
      ]
    },
    {
      "cell_type": "code",
      "metadata": {
        "id": "hQbiW1LJrbPB",
        "colab_type": "code",
        "colab": {}
      },
      "source": [
        "# 두 개 이상의 문자열이 연속해서 나타나면 자동으로 이어 붙여집니다."
      ],
      "execution_count": null,
      "outputs": []
    },
    {
      "cell_type": "code",
      "metadata": {
        "id": "7TsGxNeUrbPC",
        "colab_type": "code",
        "colab": {
          "base_uri": "https://localhost:8080/",
          "height": 35
        },
        "outputId": "b20ba7f3-cd1e-4922-e2b7-e43685bb2c37"
      },
      "source": [
        "'hello' 'ssafy'"
      ],
      "execution_count": 75,
      "outputs": [
        {
          "output_type": "execute_result",
          "data": {
            "application/vnd.google.colaboratory.intrinsic": {
              "type": "string"
            },
            "text/plain": [
              "'hellossafy'"
            ]
          },
          "metadata": {
            "tags": []
          },
          "execution_count": 75
        }
      ]
    },
    {
      "cell_type": "markdown",
      "metadata": {
        "id": "P8PQaxTarbPD",
        "colab_type": "text"
      },
      "source": [
        "### 이스케이프 시퀀스\n",
        "\n",
        "문자열을 활용하는 경우 특수문자 혹은 조작을 하기 위하여 사용되는 것으로 `\\`를 활용하여 이를 구분합니다. \n",
        "\n",
        "|<center>예약문자</center>|내용(의미)|\n",
        "|:--------:|:--------:|\n",
        "|\\n|줄 바꿈|\n",
        "|\\t|탭|\n",
        "|\\r|캐리지리턴|\n",
        "|\\0|널(Null)|\n",
        "|\\\\\\\\ |`\\`|\n",
        "|\\\\'|단일인용부호(`'`)|\n",
        "|\\\\\"|이중인용부호(`\"`)|"
      ]
    },
    {
      "cell_type": "code",
      "metadata": {
        "id": "HBnmYPCbrbPD",
        "colab_type": "code",
        "colab": {}
      },
      "source": [
        "# 이스케이프 문자열을 조합하여 프린트해봅시다."
      ],
      "execution_count": null,
      "outputs": []
    },
    {
      "cell_type": "code",
      "metadata": {
        "id": "w3tn72dvrbPG",
        "colab_type": "code",
        "colab": {
          "base_uri": "https://localhost:8080/",
          "height": 140
        },
        "outputId": "ff8b5e10-f9ac-45ee-c483-5308915491c0"
      },
      "source": [
        "print('''안녕 \n",
        "나는 \n",
        "python이야 ''')\n",
        "print('안녕 \\n나는 \\npython이야')\n",
        "print('안녕 \\t나는 \\tpython이야')\n"
      ],
      "execution_count": 78,
      "outputs": [
        {
          "output_type": "stream",
          "text": [
            "안녕 \n",
            "나는 \n",
            "python이야 \n",
            "안녕 \n",
            "나는 \n",
            "python이야\n",
            "안녕 \t나는 \tpython이야\n"
          ],
          "name": "stdout"
        }
      ]
    },
    {
      "cell_type": "code",
      "metadata": {
        "id": "CHvsQNkxrbPH",
        "colab_type": "code",
        "colab": {}
      },
      "source": [
        "# print를 하는 과정에서도 이스케이프 문자열을 활용 가능합니다."
      ],
      "execution_count": null,
      "outputs": []
    },
    {
      "cell_type": "code",
      "metadata": {
        "id": "YtDHYtzWrbPI",
        "colab_type": "code",
        "colab": {
          "base_uri": "https://localhost:8080/",
          "height": 52
        },
        "outputId": "8624b2c0-7824-4ad4-8f97-370975246a58"
      },
      "source": [
        "print('\\\\과 $의 환율')\n",
        "print('this is \\'python\\' ')\n"
      ],
      "execution_count": 86,
      "outputs": [
        {
          "output_type": "stream",
          "text": [
            "\\과 $의 환율\n",
            "this is 'python' \n"
          ],
          "name": "stdout"
        }
      ]
    },
    {
      "cell_type": "code",
      "metadata": {
        "id": "Hh-Qg9YHrbPK",
        "colab_type": "code",
        "colab": {}
      },
      "source": [
        "# 물론, end 옵션은 이스케이프 문자열이 아닌 다른 것도 가능합니다."
      ],
      "execution_count": null,
      "outputs": []
    },
    {
      "cell_type": "code",
      "metadata": {
        "id": "mKd4kbRxrbPK",
        "colab_type": "code",
        "colab": {
          "base_uri": "https://localhost:8080/",
          "height": 34
        },
        "outputId": "b1dcd010-e0ab-445f-cc01-a9f7c6130144"
      },
      "source": [
        "print('hello', end = '\\t')\n",
        "print('ssafy')"
      ],
      "execution_count": 89,
      "outputs": [
        {
          "output_type": "stream",
          "text": [
            "hello\tssafy\n"
          ],
          "name": "stdout"
        }
      ]
    },
    {
      "cell_type": "markdown",
      "metadata": {
        "id": "sPyqbQVQrbPL",
        "colab_type": "text"
      },
      "source": [
        "# String interpolation \n",
        "\n",
        "* `%-formatting` \n",
        "\n",
        "* [`str.format()` ](https://pyformat.info/)\n",
        "\n",
        "* [`f-strings`](https://www.python.org/dev/peps/pep-0498/) : 파이썬 3.6 이후 버전에서 지원"
      ]
    },
    {
      "cell_type": "code",
      "metadata": {
        "id": "bJIxgVDYrbPM",
        "colab_type": "code",
        "colab": {}
      },
      "source": [
        "# name 변수에 이름을 입력해봅시다."
      ],
      "execution_count": null,
      "outputs": []
    },
    {
      "cell_type": "code",
      "metadata": {
        "id": "8Ry_6EUrrbPN",
        "colab_type": "code",
        "colab": {}
      },
      "source": [
        "name = 'Tom'"
      ],
      "execution_count": 91,
      "outputs": []
    },
    {
      "cell_type": "code",
      "metadata": {
        "id": "TNcXEmMdrbPQ",
        "colab_type": "code",
        "colab": {}
      },
      "source": [
        "# %-formatting을 활용해봅시다."
      ],
      "execution_count": null,
      "outputs": []
    },
    {
      "cell_type": "code",
      "metadata": {
        "id": "uMA83siPrbPS",
        "colab_type": "code",
        "colab": {
          "base_uri": "https://localhost:8080/",
          "height": 34
        },
        "outputId": "c6355afc-0fa0-4d83-c470-9beaf1e90c43"
      },
      "source": [
        "print('my name is %s' % name)"
      ],
      "execution_count": 92,
      "outputs": [
        {
          "output_type": "stream",
          "text": [
            "my name is Tom\n"
          ],
          "name": "stdout"
        }
      ]
    },
    {
      "cell_type": "code",
      "metadata": {
        "id": "q_odqu5-rbPU",
        "colab_type": "code",
        "colab": {}
      },
      "source": [
        "# str.format()을 활용해봅시다."
      ],
      "execution_count": null,
      "outputs": []
    },
    {
      "cell_type": "code",
      "metadata": {
        "id": "NmGCTX5GrbPW",
        "colab_type": "code",
        "colab": {
          "base_uri": "https://localhost:8080/",
          "height": 34
        },
        "outputId": "b8e6b005-d8cf-4c35-8e07-8132c9fb10a3"
      },
      "source": [
        "print('my name is {}' .format(name))"
      ],
      "execution_count": 97,
      "outputs": [
        {
          "output_type": "stream",
          "text": [
            "my name is Tom\n"
          ],
          "name": "stdout"
        }
      ]
    },
    {
      "cell_type": "code",
      "metadata": {
        "id": "VrusooebrbPX",
        "colab_type": "code",
        "colab": {}
      },
      "source": [
        "# f-string을 활용해봅시다."
      ],
      "execution_count": null,
      "outputs": []
    },
    {
      "cell_type": "code",
      "metadata": {
        "id": "6y6jgbCYrbPZ",
        "colab_type": "code",
        "colab": {
          "base_uri": "https://localhost:8080/",
          "height": 34
        },
        "outputId": "45e542da-1fa4-4ee9-f2f6-7f612e13aec9"
      },
      "source": [
        "print(f'my name is {name}')"
      ],
      "execution_count": 93,
      "outputs": [
        {
          "output_type": "stream",
          "text": [
            "my name is Tom\n"
          ],
          "name": "stdout"
        }
      ]
    },
    {
      "cell_type": "code",
      "metadata": {
        "id": "M2Wfbs91rbPa",
        "colab_type": "code",
        "colab": {}
      },
      "source": [
        "# 여러줄 문자열에서도 사용 가능합니다."
      ],
      "execution_count": null,
      "outputs": []
    },
    {
      "cell_type": "code",
      "metadata": {
        "id": "bIBtfa-vrbPb",
        "colab_type": "code",
        "colab": {
          "base_uri": "https://localhost:8080/",
          "height": 122
        },
        "outputId": "f9448f0b-84ed-4958-a287-00320d6e2a96"
      },
      "source": [
        "print(f'''\n",
        "my\n",
        "name\n",
        "is\n",
        "{name}\n",
        "''')"
      ],
      "execution_count": 98,
      "outputs": [
        {
          "output_type": "stream",
          "text": [
            "\n",
            "my\n",
            "name\n",
            "is\n",
            "Tom\n",
            "\n"
          ],
          "name": "stdout"
        }
      ]
    },
    {
      "cell_type": "markdown",
      "metadata": {
        "id": "pFIqc-U6rbPc",
        "colab_type": "text"
      },
      "source": [
        "* f-strings에서는 형식을 지정할 수 있다."
      ]
    },
    {
      "cell_type": "code",
      "metadata": {
        "id": "GJBG51fkrbPd",
        "colab_type": "code",
        "colab": {}
      },
      "source": [
        "# 다양한 형식을 활용하기 위해 datetime 모듈로 오늘을 표현해봅시다."
      ],
      "execution_count": null,
      "outputs": []
    },
    {
      "cell_type": "code",
      "metadata": {
        "id": "OARe15FlrbPe",
        "colab_type": "code",
        "colab": {
          "base_uri": "https://localhost:8080/",
          "height": 34
        },
        "outputId": "6efcd85f-8823-4864-c09f-3854916b8d45"
      },
      "source": [
        "import datetime\n",
        "now = datetime.datetime.now()\n",
        "print(now)"
      ],
      "execution_count": 113,
      "outputs": [
        {
          "output_type": "stream",
          "text": [
            "2020-07-20 04:20:57.274576\n"
          ],
          "name": "stdout"
        }
      ]
    },
    {
      "cell_type": "code",
      "metadata": {
        "id": "kS15enR6rbPf",
        "colab_type": "code",
        "colab": {}
      },
      "source": [
        "# interpolation에서 출력형식을 지정할 수 있습니다."
      ],
      "execution_count": null,
      "outputs": []
    },
    {
      "cell_type": "code",
      "metadata": {
        "id": "Ti9pyB5nrbPg",
        "colab_type": "code",
        "colab": {
          "base_uri": "https://localhost:8080/",
          "height": 87
        },
        "outputId": "97e15dd5-ea89-4434-d614-cb20c1c80a2d"
      },
      "source": [
        "now.today()\n",
        "print(f'올해은 {now:%Y}년')\n",
        "print(f'올해은 {now:%y}년')\n",
        "print(f'이번달은 {now:%m}월')\n",
        "print(f'오늘은 {now:%d}일')"
      ],
      "execution_count": 108,
      "outputs": [
        {
          "output_type": "stream",
          "text": [
            "올해은 2020년\n",
            "올해은 20년\n",
            "이번달은 07월\n",
            "오늘은 20일\n"
          ],
          "name": "stdout"
        }
      ]
    },
    {
      "cell_type": "markdown",
      "metadata": {
        "id": "k3nkx9b8rbPh",
        "colab_type": "text"
      },
      "source": [
        "* f-strings에서는 연산과 출력형식 지정도 가능하다."
      ]
    },
    {
      "cell_type": "code",
      "metadata": {
        "id": "ycu5qhWxrbPh",
        "colab_type": "code",
        "colab": {}
      },
      "source": [
        "# string interpolation을 통해 출력형식 지정 뿐만 아니라, 연산도 가능합니다."
      ],
      "execution_count": null,
      "outputs": []
    },
    {
      "cell_type": "code",
      "metadata": {
        "id": "Hx7Um7NGrbPj",
        "colab_type": "code",
        "colab": {
          "base_uri": "https://localhost:8080/",
          "height": 70
        },
        "outputId": "5e415711-eef4-4535-cb9c-182f114308fe"
      },
      "source": [
        "pi = 3.141592\n",
        "print(pi)\n",
        "#3째 자리에서 반오림(2째 자리까지 표현)\n",
        "print(f'{pi:.3}')\n",
        "r=10\n",
        "print(f'{pi:.3}  넓이는 {pi*r*r:.3}')"
      ],
      "execution_count": 112,
      "outputs": [
        {
          "output_type": "stream",
          "text": [
            "3.141592\n",
            "3.14\n",
            "3.14  넓이는 3.14e+02\n"
          ],
          "name": "stdout"
        }
      ]
    },
    {
      "cell_type": "code",
      "metadata": {
        "id": "KgtlHpZUme3C",
        "colab_type": "code",
        "colab": {}
      },
      "source": [
        "from google.colab import drive\n",
        "drive.mount('/content/drive')"
      ],
      "execution_count": null,
      "outputs": []
    },
    {
      "cell_type": "markdown",
      "metadata": {
        "id": "WAChmeperbPk",
        "colab_type": "text"
      },
      "source": [
        "\n",
        "## 참/거짓(Boolean) 타입\n",
        "\n",
        "파이썬에는 `True`와 `False`로 이뤄진 `bool` 타입이 있습니다.\n",
        "\n",
        "비교/논리 연산을 수행 등에서 활용됩니다.\n",
        "\n",
        "다음은 `False`로 변환됩니다.\n",
        "```\n",
        "0, 0.0, (), [], {}, '', None\n",
        "```"
      ]
    },
    {
      "cell_type": "code",
      "metadata": {
        "id": "k1JBkGfIrbPk",
        "colab_type": "code",
        "colab": {}
      },
      "source": [
        "# True와 False의 타입들을 알아봅시다."
      ],
      "execution_count": null,
      "outputs": []
    },
    {
      "cell_type": "code",
      "metadata": {
        "id": "UHskQGLNrbPn",
        "colab_type": "code",
        "colab": {}
      },
      "source": [
        ""
      ],
      "execution_count": null,
      "outputs": []
    },
    {
      "cell_type": "code",
      "metadata": {
        "id": "BGV71-ddrbPo",
        "colab_type": "code",
        "colab": {}
      },
      "source": [
        "# 다양한 True, False 상황들을 확인해봅시다.\n",
        "# 형변환(Type Conversion)에서 추가적으로 다루는 내용입니다."
      ],
      "execution_count": null,
      "outputs": []
    },
    {
      "cell_type": "code",
      "metadata": {
        "id": "dog1eW6_rbPp",
        "colab_type": "code",
        "colab": {}
      },
      "source": [
        ""
      ],
      "execution_count": null,
      "outputs": []
    },
    {
      "cell_type": "markdown",
      "metadata": {
        "id": "Ew6_ju3RrbPq",
        "colab_type": "text"
      },
      "source": [
        "### `None` 타입\n",
        "\n",
        "파이썬에서는 값이 없음을 표현하기 위해 `None` 타입이 존재합니다."
      ]
    },
    {
      "cell_type": "code",
      "metadata": {
        "id": "9MbGEYC1rbPq",
        "colab_type": "code",
        "colab": {}
      },
      "source": [
        "# None의 타입을 알아봅시다."
      ],
      "execution_count": null,
      "outputs": []
    },
    {
      "cell_type": "code",
      "metadata": {
        "id": "c6c_vlyMrbPr",
        "colab_type": "code",
        "colab": {}
      },
      "source": [
        ""
      ],
      "execution_count": null,
      "outputs": []
    },
    {
      "cell_type": "code",
      "metadata": {
        "id": "axsD0WsFrbPs",
        "colab_type": "code",
        "colab": {}
      },
      "source": [
        "# 변수에 저장해서 확인해봅시다."
      ],
      "execution_count": null,
      "outputs": []
    },
    {
      "cell_type": "code",
      "metadata": {
        "id": "CoCvIFSnrbPu",
        "colab_type": "code",
        "colab": {}
      },
      "source": [
        ""
      ],
      "execution_count": null,
      "outputs": []
    },
    {
      "cell_type": "markdown",
      "metadata": {
        "id": "4PSXiMvzrbPv",
        "colab_type": "text"
      },
      "source": [
        "## 형변환(Type conversion, Typecasting)\n",
        "\n",
        "파이썬에서 데이터타입은 서로 변환할 수 있습니다.\n",
        "\n",
        "- 암시적 형변환\n",
        "- 명시적 형변환"
      ]
    },
    {
      "cell_type": "markdown",
      "metadata": {
        "id": "F_6IfPYcrbPv",
        "colab_type": "text"
      },
      "source": [
        "### 암시적 형변환(Implicit Type Conversion)\n",
        "\n",
        "사용자가 의도하지 않았지만, 파이썬 내부적으로 자동으로 형변환 하는 경우입니다.\n",
        "아래의 상황에서만 가능합니다.\n",
        "* bool\n",
        "* Numbers (int, float, complex)"
      ]
    },
    {
      "cell_type": "code",
      "metadata": {
        "id": "syAIzEE1rbPv",
        "colab_type": "code",
        "colab": {}
      },
      "source": [
        "# boolean과 integer는 더할 수 있을까요?"
      ],
      "execution_count": null,
      "outputs": []
    },
    {
      "cell_type": "code",
      "metadata": {
        "id": "9Eo8d-2TrbPw",
        "colab_type": "code",
        "colab": {}
      },
      "source": [
        ""
      ],
      "execution_count": null,
      "outputs": []
    },
    {
      "cell_type": "code",
      "metadata": {
        "id": "dMbFqxQNrbPy",
        "colab_type": "code",
        "colab": {}
      },
      "source": [
        "# int, float, complex를 각각 변수에 대입해봅시다."
      ],
      "execution_count": null,
      "outputs": []
    },
    {
      "cell_type": "code",
      "metadata": {
        "id": "STKXbIfFrbPz",
        "colab_type": "code",
        "colab": {}
      },
      "source": [
        ""
      ],
      "execution_count": null,
      "outputs": []
    },
    {
      "cell_type": "code",
      "metadata": {
        "id": "-2WZexilrbPz",
        "colab_type": "code",
        "colab": {}
      },
      "source": [
        "# int와 float를 더해봅시다. 그 결과의 type은 무엇일까요?"
      ],
      "execution_count": null,
      "outputs": []
    },
    {
      "cell_type": "code",
      "metadata": {
        "id": "GrPhVdYLrbP0",
        "colab_type": "code",
        "colab": {}
      },
      "source": [
        ""
      ],
      "execution_count": null,
      "outputs": []
    },
    {
      "cell_type": "code",
      "metadata": {
        "id": "wUHnQWobrbP1",
        "colab_type": "code",
        "colab": {}
      },
      "source": [
        "# int와 complex를 더해봅시다. 그 결과의 type은 무엇일까요?"
      ],
      "execution_count": null,
      "outputs": []
    },
    {
      "cell_type": "code",
      "metadata": {
        "id": "4MTd3xgdrbP3",
        "colab_type": "code",
        "colab": {}
      },
      "source": [
        ""
      ],
      "execution_count": null,
      "outputs": []
    },
    {
      "cell_type": "markdown",
      "metadata": {
        "id": "szXAIexvrbP4",
        "colab_type": "text"
      },
      "source": [
        "### 명시적 형변환(Explicit Type Conversion)\n",
        "위의 상황을 제외하고는 모두 명시적으로 형 변환을 해주어야합니다.\n",
        "\n",
        "* string -> intger  : 형식에 맞는 숫자만 가능\n",
        "* integer -> string : 모두 가능\n",
        "\n",
        "암시적 형변환이 되는 모든 경우도 명시적으로 형변환이 가능합니다.\n",
        "\n",
        "* `int()` : string, float를 int로 변환\n",
        "* `float()` : string, int를 float로 변환\n",
        "* `str()` : int, float, list, tuple, dictionary를 문자열로 변환\n",
        "\n",
        "`list()`, `tuple()` 등은 다음 챕터에서 배울 예정입니다."
      ]
    },
    {
      "cell_type": "code",
      "metadata": {
        "id": "LazraREIrbP4",
        "colab_type": "code",
        "colab": {}
      },
      "source": [
        "# integer와 string 사이의 관계는 명시적으로 형변환을 해줘야만 합니다."
      ],
      "execution_count": null,
      "outputs": []
    },
    {
      "cell_type": "code",
      "metadata": {
        "id": "IjmexDs0rbP5",
        "colab_type": "code",
        "colab": {}
      },
      "source": [
        ""
      ],
      "execution_count": null,
      "outputs": []
    },
    {
      "cell_type": "code",
      "metadata": {
        "id": "eOC7f8mYrbP6",
        "colab_type": "code",
        "colab": {}
      },
      "source": [
        "# string 3을 integer로 변환해봅시다."
      ],
      "execution_count": null,
      "outputs": []
    },
    {
      "cell_type": "code",
      "metadata": {
        "id": "Wa9b5gfTrbP7",
        "colab_type": "code",
        "colab": {}
      },
      "source": [
        ""
      ],
      "execution_count": null,
      "outputs": []
    },
    {
      "cell_type": "code",
      "metadata": {
        "id": "fKtInbgHrbP9",
        "colab_type": "code",
        "colab": {}
      },
      "source": [
        "# string 3.5를 float로 변환해봅시다."
      ],
      "execution_count": null,
      "outputs": []
    },
    {
      "cell_type": "code",
      "metadata": {
        "id": "lIn1mJhUrbP-",
        "colab_type": "code",
        "colab": {}
      },
      "source": [
        ""
      ],
      "execution_count": null,
      "outputs": []
    },
    {
      "cell_type": "code",
      "metadata": {
        "id": "Ys_CjI9ArbQA",
        "colab_type": "code",
        "colab": {}
      },
      "source": [
        "# string은 글자가 숫자일때만 형변환이 가능합니다."
      ],
      "execution_count": null,
      "outputs": []
    },
    {
      "cell_type": "code",
      "metadata": {
        "id": "Sol2iFgSrbQB",
        "colab_type": "code",
        "colab": {}
      },
      "source": [
        ""
      ],
      "execution_count": null,
      "outputs": []
    },
    {
      "cell_type": "code",
      "metadata": {
        "id": "UM-jwOUurbQB",
        "colab_type": "code",
        "colab": {}
      },
      "source": [
        "# string 3.5를 int로 변환할 수는 없습니다."
      ],
      "execution_count": null,
      "outputs": []
    },
    {
      "cell_type": "code",
      "metadata": {
        "id": "BpDwqDaXrbQC",
        "colab_type": "code",
        "colab": {}
      },
      "source": [
        ""
      ],
      "execution_count": null,
      "outputs": []
    },
    {
      "cell_type": "code",
      "metadata": {
        "id": "w_rwFFBHrbQD",
        "colab_type": "code",
        "colab": {}
      },
      "source": [
        "# float 3.5는 int로 변환이 가능합니다."
      ],
      "execution_count": null,
      "outputs": []
    },
    {
      "cell_type": "code",
      "metadata": {
        "id": "JYmvxnurrbQE",
        "colab_type": "code",
        "colab": {}
      },
      "source": [
        ""
      ],
      "execution_count": null,
      "outputs": []
    },
    {
      "cell_type": "markdown",
      "metadata": {
        "id": "UouqP3vtrbQG",
        "colab_type": "text"
      },
      "source": [
        "# 연산자(Operator)\n",
        "\n",
        "- 산술 연산자\n",
        "- 비교 연산자\n",
        "- 논리 연산자\n",
        "- 복합 연산자\n",
        "- 기타 연산자"
      ]
    },
    {
      "cell_type": "markdown",
      "metadata": {
        "id": "u6H6iRm-rbQG",
        "colab_type": "text"
      },
      "source": [
        "## 산술 연산자\n",
        "Python에서는 기본적인 사칙연산이 가능합니다. \n",
        "\n",
        "|연산자|내용|\n",
        "|----|---|\n",
        "|+|덧셈|\n",
        "|-|뺄셈|\n",
        "|\\*|곱셈|\n",
        "|/|나눗셈|\n",
        "|//|몫|\n",
        "|%|나머지(modulo)|\n",
        "|\\*\\*|거듭제곱|\n",
        "\n",
        "- 나눗셈 (`/`) 은 항상 float를 돌려준다.\n",
        "- 정수 나눗셈 으로 (소수부 없이) 정수 결과를 얻으려면 `//` 연산자를 사용한다.\n"
      ]
    },
    {
      "cell_type": "code",
      "metadata": {
        "id": "233kamLgrbQG",
        "colab_type": "code",
        "colab": {}
      },
      "source": [
        "# 2의 1000승을 확인해봅시다."
      ],
      "execution_count": null,
      "outputs": []
    },
    {
      "cell_type": "code",
      "metadata": {
        "id": "QacZ6pTgrbQI",
        "colab_type": "code",
        "colab": {}
      },
      "source": [
        ""
      ],
      "execution_count": null,
      "outputs": []
    },
    {
      "cell_type": "code",
      "metadata": {
        "id": "wCja4PcxrbQI",
        "colab_type": "code",
        "colab": {}
      },
      "source": [
        "# 나눗셈과 관련된 산술연산자를 활용해봅시다."
      ],
      "execution_count": null,
      "outputs": []
    },
    {
      "cell_type": "code",
      "metadata": {
        "id": "RsqRwFIurbQK",
        "colab_type": "code",
        "colab": {}
      },
      "source": [
        ""
      ],
      "execution_count": null,
      "outputs": []
    },
    {
      "cell_type": "code",
      "metadata": {
        "id": "PHPihYxsrbQL",
        "colab_type": "code",
        "colab": {}
      },
      "source": [
        "# divmod는 나눗셈과 관련된 함수입니다."
      ],
      "execution_count": null,
      "outputs": []
    },
    {
      "cell_type": "code",
      "metadata": {
        "id": "1Qo7or1NrbQM",
        "colab_type": "code",
        "colab": {}
      },
      "source": [
        ""
      ],
      "execution_count": null,
      "outputs": []
    },
    {
      "cell_type": "code",
      "metadata": {
        "id": "7-7_n_MerbQN",
        "colab_type": "code",
        "colab": {}
      },
      "source": [
        "# 음수 양수 표현도 해봅시다."
      ],
      "execution_count": null,
      "outputs": []
    },
    {
      "cell_type": "code",
      "metadata": {
        "id": "cnD1AYzNrbQO",
        "colab_type": "code",
        "colab": {}
      },
      "source": [
        ""
      ],
      "execution_count": null,
      "outputs": []
    },
    {
      "cell_type": "markdown",
      "metadata": {
        "id": "lB4JYv_arbQQ",
        "colab_type": "text"
      },
      "source": [
        "## 비교 연산자\n",
        "\n",
        "우리가 수학에서 배운 연산자와 동일하게 값을 비교할 수 있습니다.\n",
        "\n",
        "|연산자|내용|\n",
        "|----|---|\n",
        "|`<`|미만|\n",
        "|`<=`|이하|\n",
        "|`>`|초과|\n",
        "|`>=`|이상|\n",
        "|`==`|같음|\n",
        "|`!=`|같지않음|\n",
        "|`is`|객체 아이덴티티|\n",
        "|`is not`|부정된 객체 아이덴티티|\n"
      ]
    },
    {
      "cell_type": "code",
      "metadata": {
        "id": "RN6g-6j2rbQR",
        "colab_type": "code",
        "colab": {}
      },
      "source": [
        "# 숫자의 대소관계를 비교해봅시다."
      ],
      "execution_count": null,
      "outputs": []
    },
    {
      "cell_type": "code",
      "metadata": {
        "id": "s_bIFo9zrbQS",
        "colab_type": "code",
        "colab": {}
      },
      "source": [
        ""
      ],
      "execution_count": null,
      "outputs": []
    },
    {
      "cell_type": "code",
      "metadata": {
        "id": "iLLAdOLdrbQT",
        "colab_type": "code",
        "colab": {}
      },
      "source": [
        "# 다른 숫자인지 확인해봅시다."
      ],
      "execution_count": null,
      "outputs": []
    },
    {
      "cell_type": "code",
      "metadata": {
        "id": "VT0UrNcrrbQU",
        "colab_type": "code",
        "colab": {}
      },
      "source": [
        ""
      ],
      "execution_count": null,
      "outputs": []
    },
    {
      "cell_type": "code",
      "metadata": {
        "id": "KPtwPdPOrbQU",
        "colab_type": "code",
        "colab": {}
      },
      "source": [
        "# 같은 숫자인지 확인해봅시다."
      ],
      "execution_count": null,
      "outputs": []
    },
    {
      "cell_type": "code",
      "metadata": {
        "id": "JciAQFusrbQV",
        "colab_type": "code",
        "colab": {}
      },
      "source": [
        ""
      ],
      "execution_count": null,
      "outputs": []
    },
    {
      "cell_type": "code",
      "metadata": {
        "id": "Y6XV_gRnrbQW",
        "colab_type": "code",
        "colab": {}
      },
      "source": [
        "# 문자열도 같은지 확인해봅시다."
      ],
      "execution_count": null,
      "outputs": []
    },
    {
      "cell_type": "code",
      "metadata": {
        "id": "o5RtmxEcrbQY",
        "colab_type": "code",
        "colab": {}
      },
      "source": [
        ""
      ],
      "execution_count": null,
      "outputs": []
    },
    {
      "cell_type": "markdown",
      "metadata": {
        "id": "wXp8cr4OrbQZ",
        "colab_type": "text"
      },
      "source": [
        "## 논리 연산자\n",
        "\n",
        "|연산자|내용|\n",
        "|---|---|\n",
        "|a and b|a와 b 모두 True시만 True|\n",
        "|a or b|a 와 b 모두 False시만 False|\n",
        "|not a|True -> False, False -> True|\n",
        "\n",
        "우리가 보통 알고 있는 `&` `|`은 파이썬에서 비트 연산자입니다."
      ]
    },
    {
      "cell_type": "code",
      "metadata": {
        "id": "nMP78ho8rbQZ",
        "colab_type": "code",
        "colab": {}
      },
      "source": [
        "# and과 관련해서 모든 case를 출력해봅시다."
      ],
      "execution_count": null,
      "outputs": []
    },
    {
      "cell_type": "code",
      "metadata": {
        "id": "Lk9l6LXJrbQa",
        "colab_type": "code",
        "colab": {}
      },
      "source": [
        ""
      ],
      "execution_count": null,
      "outputs": []
    },
    {
      "cell_type": "code",
      "metadata": {
        "id": "AgP-A-EurbQb",
        "colab_type": "code",
        "colab": {}
      },
      "source": [
        "# or과 관련해서 모든 case를 출력해봅시다."
      ],
      "execution_count": null,
      "outputs": []
    },
    {
      "cell_type": "code",
      "metadata": {
        "id": "mp1YdtmvrbQc",
        "colab_type": "code",
        "colab": {}
      },
      "source": [
        ""
      ],
      "execution_count": null,
      "outputs": []
    },
    {
      "cell_type": "code",
      "metadata": {
        "id": "cQFJFT6YrbQd",
        "colab_type": "code",
        "colab": {}
      },
      "source": [
        "# not을 활용해봅시다."
      ],
      "execution_count": null,
      "outputs": []
    },
    {
      "cell_type": "code",
      "metadata": {
        "id": "ujoa7XdLrbQd",
        "colab_type": "code",
        "colab": {}
      },
      "source": [
        ""
      ],
      "execution_count": null,
      "outputs": []
    },
    {
      "cell_type": "markdown",
      "metadata": {
        "id": "9LE9cSXlrbQe",
        "colab_type": "text"
      },
      "source": [
        "* 파이썬에서 and는 a가 거짓이면 a를 리턴하고, 참이면 b를 리턴한다.\n",
        "* 파이썬에서 or은 a가 참이면 a를 리턴하고, 거짓이면 b를 리턴한다."
      ]
    },
    {
      "cell_type": "markdown",
      "metadata": {
        "id": "J6ihEP32rbQe",
        "colab_type": "text"
      },
      "source": [
        "### 단축평가\n",
        "* 첫 번째 값이 확실할 때, 두 번째 값은 확인 하지 않음\n",
        "* 조건문에서 뒷 부분을 판단하지 않아도 되기 때문에 속도 향상"
      ]
    },
    {
      "cell_type": "code",
      "metadata": {
        "id": "4Xfg8tqrrbQe",
        "colab_type": "code",
        "colab": {}
      },
      "source": [
        "vowels = 'aeiou'"
      ],
      "execution_count": null,
      "outputs": []
    },
    {
      "cell_type": "code",
      "metadata": {
        "scrolled": false,
        "id": "zuwewXQYrbQf",
        "colab_type": "code",
        "colab": {}
      },
      "source": [
        ""
      ],
      "execution_count": null,
      "outputs": []
    },
    {
      "cell_type": "code",
      "metadata": {
        "scrolled": false,
        "id": "eh_y3zYwrbQg",
        "colab_type": "code",
        "colab": {}
      },
      "source": [
        ""
      ],
      "execution_count": null,
      "outputs": []
    },
    {
      "cell_type": "code",
      "metadata": {
        "id": "zOSiAVgOrbQg",
        "colab_type": "code",
        "colab": {}
      },
      "source": [
        ""
      ],
      "execution_count": null,
      "outputs": []
    },
    {
      "cell_type": "code",
      "metadata": {
        "id": "NAFGHRDtrbQh",
        "colab_type": "code",
        "colab": {}
      },
      "source": [
        ""
      ],
      "execution_count": null,
      "outputs": []
    },
    {
      "cell_type": "markdown",
      "metadata": {
        "id": "gjSp9NrArbQi",
        "colab_type": "text"
      },
      "source": [
        "- `and` 는 둘 다 True일 경우만 True이기 때문에 첫번째 값이 True라도 두번째 값을 확인해야 하기 때문에 'b'가 반환된다.\n",
        "- `or` 는 하나만 True라도 True이기 때문에 True를 만나면 해당 값을 바로 반환한다."
      ]
    },
    {
      "cell_type": "code",
      "metadata": {
        "id": "aiTJIiiKrbQi",
        "colab_type": "code",
        "colab": {}
      },
      "source": [
        "# and의 단축평가(short-circuit evaluation)에 대해서 알아봅시다."
      ],
      "execution_count": null,
      "outputs": []
    },
    {
      "cell_type": "code",
      "metadata": {
        "id": "KddbQExxrbQi",
        "colab_type": "code",
        "colab": {}
      },
      "source": [
        ""
      ],
      "execution_count": null,
      "outputs": []
    },
    {
      "cell_type": "code",
      "metadata": {
        "id": "P4TGCuOtrbQj",
        "colab_type": "code",
        "colab": {}
      },
      "source": [
        "# or의 단축평가(short-circuit evaluation)에 대해서 알아봅시다."
      ],
      "execution_count": null,
      "outputs": []
    },
    {
      "cell_type": "code",
      "metadata": {
        "id": "TNiJPqgXrbQk",
        "colab_type": "code",
        "colab": {}
      },
      "source": [
        ""
      ],
      "execution_count": null,
      "outputs": []
    },
    {
      "cell_type": "markdown",
      "metadata": {
        "id": "ymUnMHeMrbQl",
        "colab_type": "text"
      },
      "source": [
        "## 복합 연산자\n",
        "\n",
        "복합 연산자는 연산과 대입이 함께 이뤄집니다. \n",
        "\n",
        "가장 많이 활용되는 경우는 반복문을 통해서 개수를 카운트하거나 할 때 활용됩니다.\n",
        "\n",
        "|연산자|내용|\n",
        "|----|---|\n",
        "|a += b|a = a + b|\n",
        "|a -= b|a = a - b|\n",
        "|a \\*= b|a = a \\* b|\n",
        "|a /= b|a = a / b|\n",
        "|a //= b|a = a // b|\n",
        "|a %= b|a = a % b|\n",
        "|a \\*\\*= b|a = a ** b|"
      ]
    },
    {
      "cell_type": "code",
      "metadata": {
        "id": "xCuzcdF0rbQl",
        "colab_type": "code",
        "colab": {}
      },
      "source": [
        "# 복합연산자는 이럴 때 사용됩니다."
      ],
      "execution_count": null,
      "outputs": []
    },
    {
      "cell_type": "code",
      "metadata": {
        "id": "JeLyBceOrbQm",
        "colab_type": "code",
        "colab": {}
      },
      "source": [
        ""
      ],
      "execution_count": null,
      "outputs": []
    },
    {
      "cell_type": "markdown",
      "metadata": {
        "id": "Qwo_Y8q2rbQn",
        "colab_type": "text"
      },
      "source": [
        "## 기타 주요 연산자\n",
        "\n",
        "### Concatenation\n",
        "\n",
        "숫자가 아닌 자료형은 `+` 연산자를 통해 합칠 수 있습니다."
      ]
    },
    {
      "cell_type": "code",
      "metadata": {
        "id": "_zZleDBUrbQn",
        "colab_type": "code",
        "colab": {}
      },
      "source": [
        "# 문자열을 더해봅시다.(합쳐봅시다.)"
      ],
      "execution_count": null,
      "outputs": []
    },
    {
      "cell_type": "code",
      "metadata": {
        "id": "9Bx6Ad15rbQo",
        "colab_type": "code",
        "colab": {}
      },
      "source": [
        ""
      ],
      "execution_count": null,
      "outputs": []
    },
    {
      "cell_type": "code",
      "metadata": {
        "id": "1qRk8Pk9rbQq",
        "colab_type": "code",
        "colab": {}
      },
      "source": [
        "# list를 더해봅시다.(합쳐봅시다.)"
      ],
      "execution_count": null,
      "outputs": []
    },
    {
      "cell_type": "code",
      "metadata": {
        "id": "jo9absqgrbQu",
        "colab_type": "code",
        "colab": {}
      },
      "source": [
        ""
      ],
      "execution_count": null,
      "outputs": []
    },
    {
      "cell_type": "markdown",
      "metadata": {
        "id": "hZDDrgHprbQv",
        "colab_type": "text"
      },
      "source": [
        "### Containment Test\n",
        "\n",
        "`in` 연산자를 통해 요소가 속해있는지 여부를 확인할 수 있습니다."
      ]
    },
    {
      "cell_type": "code",
      "metadata": {
        "id": "nYT5bDbOrbQv",
        "colab_type": "code",
        "colab": {}
      },
      "source": [
        "# 문자열안에 특정한 문자가 있는지 확인해봅시다."
      ],
      "execution_count": null,
      "outputs": []
    },
    {
      "cell_type": "code",
      "metadata": {
        "id": "4Box7vZ0rbQw",
        "colab_type": "code",
        "colab": {}
      },
      "source": [
        ""
      ],
      "execution_count": null,
      "outputs": []
    },
    {
      "cell_type": "code",
      "metadata": {
        "id": "jQzifI7HrbQz",
        "colab_type": "code",
        "colab": {}
      },
      "source": [
        "# list안에 특정한 원소가 있는지 확인해봅시다."
      ],
      "execution_count": null,
      "outputs": []
    },
    {
      "cell_type": "code",
      "metadata": {
        "id": "M4Y_TjJwrbQ0",
        "colab_type": "code",
        "colab": {}
      },
      "source": [
        ""
      ],
      "execution_count": null,
      "outputs": []
    },
    {
      "cell_type": "code",
      "metadata": {
        "id": "HI2mCmu4rbQ0",
        "colab_type": "code",
        "colab": {}
      },
      "source": [
        "# range안에 특정한 원소가 있는지 확인해봅시다."
      ],
      "execution_count": null,
      "outputs": []
    },
    {
      "cell_type": "code",
      "metadata": {
        "id": "1fw16ErOrbQ2",
        "colab_type": "code",
        "colab": {}
      },
      "source": [
        ""
      ],
      "execution_count": null,
      "outputs": []
    },
    {
      "cell_type": "markdown",
      "metadata": {
        "id": "D1e3TtAwrbQ3",
        "colab_type": "text"
      },
      "source": [
        "### Identity\n",
        "\n",
        "`is` 연산자를 통해 동일한 object인지 확인할 수 있습니다. (OOP 파트에서 다시 학습하게 됩니다.)"
      ]
    },
    {
      "cell_type": "code",
      "metadata": {
        "id": "4EkK3HRbrbQ3",
        "colab_type": "code",
        "colab": {}
      },
      "source": [
        "# 파이썬에서 -5 부터 256 까지의 id는 동일합니다."
      ],
      "execution_count": null,
      "outputs": []
    },
    {
      "cell_type": "code",
      "metadata": {
        "id": "r8Y5mVSLrbQ5",
        "colab_type": "code",
        "colab": {}
      },
      "source": [
        ""
      ],
      "execution_count": null,
      "outputs": []
    },
    {
      "cell_type": "code",
      "metadata": {
        "id": "QrLOvibTrbQ7",
        "colab_type": "code",
        "colab": {}
      },
      "source": [
        "# 257 이루의 id 는 다릅니다."
      ],
      "execution_count": null,
      "outputs": []
    },
    {
      "cell_type": "code",
      "metadata": {
        "id": "G5wMzNkjrbQ8",
        "colab_type": "code",
        "colab": {}
      },
      "source": [
        ""
      ],
      "execution_count": null,
      "outputs": []
    },
    {
      "cell_type": "markdown",
      "metadata": {
        "id": "rAHr22J5rbQ8",
        "colab_type": "text"
      },
      "source": [
        "### Indexing/Slicing\n",
        "`[]`를 통한 값을 접근하고, `[:]`을 통해 리스트를 슬라이싱할 수 있습니다. (Container 파트에서 자세하게 학습합니다.)"
      ]
    },
    {
      "cell_type": "code",
      "metadata": {
        "id": "K-88153vrbQ9",
        "colab_type": "code",
        "colab": {}
      },
      "source": [
        "# 문자열을 인덱싱을 통해 값에 접근해봅시다."
      ],
      "execution_count": null,
      "outputs": []
    },
    {
      "cell_type": "code",
      "metadata": {
        "id": "ekyLu-OerbQ-",
        "colab_type": "code",
        "colab": {}
      },
      "source": [
        ""
      ],
      "execution_count": null,
      "outputs": []
    },
    {
      "cell_type": "markdown",
      "metadata": {
        "id": "yERKY18_rbQ_",
        "colab_type": "text"
      },
      "source": [
        "## 연산자 우선순위\n",
        "\n",
        "0. `()`을 통한 grouping\n",
        "\n",
        "1. Slicing\n",
        "\n",
        "2. Indexing\n",
        "\n",
        "3. 제곱연산자\n",
        "    `**`\n",
        "\n",
        "4. 단항연산자 \n",
        "    `+`, `-` (음수/양수 부호)\n",
        "\n",
        "5. 산술연산자\n",
        "    `*`, `/`, `%`\n",
        "    \n",
        "6. 산술연산자\n",
        "    `+`, `-`\n",
        " \n",
        "7. 비교연산자, `in`, `is`\n",
        "\n",
        "8. `not`\n",
        "\n",
        "9. `and` \n",
        "\n",
        "10. `or`"
      ]
    },
    {
      "cell_type": "code",
      "metadata": {
        "id": "2gw5dwGyrbQ_",
        "colab_type": "code",
        "colab": {}
      },
      "source": [
        "# 우선순위를 확인해봅시다."
      ],
      "execution_count": null,
      "outputs": []
    },
    {
      "cell_type": "code",
      "metadata": {
        "id": "DWrt-FDBrbRA",
        "colab_type": "code",
        "colab": {}
      },
      "source": [
        ""
      ],
      "execution_count": null,
      "outputs": []
    },
    {
      "cell_type": "markdown",
      "metadata": {
        "id": "rvh-O_NirbRA",
        "colab_type": "text"
      },
      "source": [
        "### [참고] 표현식(Expression) & 문장(Statement)\n"
      ]
    },
    {
      "cell_type": "markdown",
      "metadata": {
        "id": "CDhfW0PVrbRB",
        "colab_type": "text"
      },
      "source": [
        "### 표현식(Expression)\n",
        "\n",
        "> 표현식 => `evaluate` => 값\n",
        "\n",
        "* 하나의 값(value)으로 환원(reduce)될 수 있는 문장\n",
        "* `식별자`, `값`(리터럴), `연산자`로 구성됩니다.\n",
        "* 표현식을 만드는 문법(syntax)은 일반적인 (중위표기) 수식의 규칙과 유사합니다.\n",
        "* [참고] [표현식(Expression) 문법 관련 공식문서](https://docs.python.org/3/reference/expressions.html)"
      ]
    },
    {
      "cell_type": "code",
      "metadata": {
        "id": "AApfX9wlrbRB",
        "colab_type": "code",
        "colab": {}
      },
      "source": [
        "# 하나의 값(value)도 표현식(expression)이 될 수 있습니다."
      ],
      "execution_count": null,
      "outputs": []
    },
    {
      "cell_type": "code",
      "metadata": {
        "id": "i8SUqozOrbRC",
        "colab_type": "code",
        "colab": {}
      },
      "source": [
        ""
      ],
      "execution_count": null,
      "outputs": []
    },
    {
      "cell_type": "code",
      "metadata": {
        "id": "do_koZXQrbRC",
        "colab_type": "code",
        "colab": {}
      },
      "source": [
        "# 표현식은 하나의 값으로 평가(evaluate)될 수 있어야 합니다. 그러면 할당문(assignment statement)은 표현식일까요?"
      ],
      "execution_count": null,
      "outputs": []
    },
    {
      "cell_type": "code",
      "metadata": {
        "id": "OeY0jyyprbRD",
        "colab_type": "code",
        "colab": {}
      },
      "source": [
        ""
      ],
      "execution_count": null,
      "outputs": []
    },
    {
      "cell_type": "code",
      "metadata": {
        "id": "0qqybDx-rbRE",
        "colab_type": "code",
        "colab": {}
      },
      "source": [
        "# 식별자가 값이 할당되어 있는 경우 수식의 일부가 될 수 있습니다."
      ],
      "execution_count": null,
      "outputs": []
    },
    {
      "cell_type": "code",
      "metadata": {
        "id": "xlrbzL_ArbRF",
        "colab_type": "code",
        "colab": {}
      },
      "source": [
        ""
      ],
      "execution_count": null,
      "outputs": []
    },
    {
      "cell_type": "code",
      "metadata": {
        "id": "UxEQV25prbRF",
        "colab_type": "code",
        "colab": {}
      },
      "source": [
        "# 표현식을 만드는 문법(syntax)은 일반적인 (중위표기) 수식의 규칙과 유사합니다. 아래와 같은 문장은 표현식이 될 수 없습니다."
      ],
      "execution_count": null,
      "outputs": []
    },
    {
      "cell_type": "code",
      "metadata": {
        "id": "D9MV8EC8rbRG",
        "colab_type": "code",
        "colab": {}
      },
      "source": [
        ""
      ],
      "execution_count": null,
      "outputs": []
    },
    {
      "cell_type": "markdown",
      "metadata": {
        "id": "tfyof6BjrbRH",
        "colab_type": "text"
      },
      "source": [
        "### 문장(Statement)\n",
        "\n",
        "* 파이썬이 실행 가능한 최소한의 코드 단위 (a syntatic unit of programming)"
      ]
    },
    {
      "cell_type": "code",
      "metadata": {
        "id": "qYeaAH_PrbRH",
        "colab_type": "code",
        "colab": {}
      },
      "source": [
        "# 하나의 값(value)도 문장이 될 수 있습니다."
      ],
      "execution_count": null,
      "outputs": []
    },
    {
      "cell_type": "code",
      "metadata": {
        "id": "qXjBsSuVrbRH",
        "colab_type": "code",
        "colab": {}
      },
      "source": [
        ""
      ],
      "execution_count": null,
      "outputs": []
    },
    {
      "cell_type": "code",
      "metadata": {
        "id": "lXh3WQP2rbRJ",
        "colab_type": "code",
        "colab": {}
      },
      "source": [
        "# 표현식(expression)도 문장이 될 수 있습니다."
      ],
      "execution_count": null,
      "outputs": []
    },
    {
      "cell_type": "code",
      "metadata": {
        "id": "poLYPC6zrbRK",
        "colab_type": "code",
        "colab": {}
      },
      "source": [
        ""
      ],
      "execution_count": null,
      "outputs": []
    },
    {
      "cell_type": "code",
      "metadata": {
        "id": "PS8masjmrbRM",
        "colab_type": "code",
        "colab": {}
      },
      "source": [
        "# 실행 가능(executable)해야 하기 때문에 아래의 코드는 문장이 될 수 없습니다."
      ],
      "execution_count": null,
      "outputs": []
    },
    {
      "cell_type": "code",
      "metadata": {
        "id": "gk2DZ0rQrbRN",
        "colab_type": "code",
        "colab": {}
      },
      "source": [
        ""
      ],
      "execution_count": null,
      "outputs": []
    },
    {
      "cell_type": "markdown",
      "metadata": {
        "id": "Hh1cy6WArbRN",
        "colab_type": "text"
      },
      "source": [
        "### 문장과 표현식의 관계\n",
        "\n",
        "<center><img width=\"600\" height=\"300\" src=\"https://user-images.githubusercontent.com/9452521/87619771-f41f5e00-c757-11ea-9e4b-1f76e4ca0981.png\", alt=\"variable\"/></center>"
      ]
    },
    {
      "cell_type": "markdown",
      "metadata": {
        "id": "SMbEaurgrbRN",
        "colab_type": "text"
      },
      "source": [
        "# 정리\n",
        "\n",
        "## 변수(Variable)와 자료형(Data Type)\n",
        "\n",
        "<center><img width=800 height=400 src=\"https://user-images.githubusercontent.com/9452521/87640197-55a7f280-c781-11ea-9cff-19c022ce704a.png\", alt=\"variable\"/></center>\n"
      ]
    }
  ]
}